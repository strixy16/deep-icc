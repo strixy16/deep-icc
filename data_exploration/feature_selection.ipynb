{
 "cells": [
  {
   "cell_type": "code",
   "execution_count": 68,
   "metadata": {},
   "outputs": [],
   "source": [
    "import SimpleITK as sitk\n",
    "import os \n",
    "import matplotlib.pyplot as plt\n",
    "import numpy as np"
   ]
  },
  {
   "cell_type": "code",
   "execution_count": 62,
   "metadata": {},
   "outputs": [
    {
     "name": "stdout",
     "output_type": "stream",
     "text": [
      "Tumor file count:  441\n",
      "Liver file count:  441\n"
     ]
    }
   ],
   "source": [
    "tumor_dir = \"../../Data/All_CT/Tumor\"\n",
    "all_tumor_files = os.listdir(tumor_dir)\n",
    "tumor_files_mhd = [x for x in all_tumor_files if \"mhd\" in x]\n",
    "# Remove tumors that don't have corresponding liver image (confirmed externally)\n",
    "tumor_files_mhd.remove('005_ICCrecurrence_Tumor.mhd')\n",
    "tumor_files_mhd.remove('057_ICCrecurrence_Tumor.mhd')\n",
    "tumor_files_mhd.sort()\n",
    "\n",
    "liver_dir = \"../../Data/All_CT/Liver\"\n",
    "all_liver_files = os.listdir(liver_dir)\n",
    "liver_files_mhd = [y for y in all_liver_files if \"mhd\" in y]\n",
    "liver_files_mhd.sort()\n",
    "\n",
    "print(\"Tumor file count: \", len(tumor_files_mhd))\n",
    "print(\"Liver file count: \", len(liver_files_mhd))"
   ]
  },
  {
   "cell_type": "code",
   "execution_count": 83,
   "metadata": {},
   "outputs": [
    {
     "name": "stdout",
     "output_type": "stream",
     "text": [
      "Tumor image shape:  (49, 512, 512)\n",
      "Tumor mask shape:  (49, 512, 512)\n",
      "Liver image shape:  (49, 512, 512)\n",
      "Liver mask shape:  (49, 512, 512)\n",
      "../../Data/All_CT/Tumor/001-hcc_hcctumor1.mhd\n",
      "../../Data/All_CT/Liver/001-hcc_liver_segmented.mhd\n"
     ]
    }
   ],
   "source": [
    "tumor_img_path = os.path.join(tumor_dir, tumor_files_mhd[0])\n",
    "tumor_mhd_image = sitk.ReadImage(tumor_img_path, imageIO=\"MetaImageIO\")\n",
    "tumor_img_arr = sitk.GetArrayFromImage(tumor_mhd_image)\n",
    "\n",
    "tumor_mask = ~(tumor_img_arr != -1000)\n",
    "tumor_mask = tumor_mask.astype(float)\n",
    "\n",
    "# Confirm mask is correct shape\n",
    "print(\"Tumor image shape: \", tumor_img_arr.shape)\n",
    "print(\"Tumor mask shape: \", tumor_mask.shape)\n",
    "\n",
    "\n",
    "liver_img_path = os.path.join(liver_dir, liver_files_mhd[0])\n",
    "liver_mhd_image = sitk.ReadImage(liver_img_path, imageIO=\"MetaImageIO\")\n",
    "liver_img_arr = sitk.GetArrayFromImage(liver_mhd_image)\n",
    "\n",
    "liver_mask = ~(liver_img_arr != -1000)\n",
    "liver_mask = liver_mask.astype(float)\n",
    "\n",
    "# Confirm mask is correct shape\n",
    "print(\"Liver image shape: \", tumor_img_arr.shape)\n",
    "print(\"Liver mask shape: \", tumor_mask.shape)\n",
    "\n",
    "print(tumor_img_path)\n",
    "print(liver_img_path)"
   ]
  },
  {
   "cell_type": "code",
   "execution_count": 92,
   "metadata": {},
   "outputs": [
    {
     "data": {
      "text/plain": [
       "<matplotlib.image.AxesImage at 0x7f8c83e7cd90>"
      ]
     },
     "execution_count": 92,
     "metadata": {},
     "output_type": "execute_result"
    },
    {
     "data": {
      "image/png": "[encoded data removed]",
      "text/plain": [
       "<Figure size 432x288 with 1 Axes>"
      ]
     },
     "metadata": {
      "needs_background": "light"
     },
     "output_type": "display_data"
    }
   ],
   "source": [
    "# Trying to mask tumor out of liver\n",
    "\n",
    "notum_livmask = liver_mask - tumor_mask\n",
    "\n",
    "# Make mask version that has -1000 for tumor to make into background in liver image\n",
    "tum_mask_bckgd = (1 - tumor_mask) * -1000\n",
    "\n",
    "# Mask out the tumor pixels to 0, then add -1000 to set as background\n",
    "notum_liv = liver_img_arr * tumor_mask + tum_mask_bckgd\n",
    "\n",
    "plt.imshow(notum_liv[9,:,:])"
   ]
  },
  {
   "cell_type": "code",
   "execution_count": 91,
   "metadata": {},
   "outputs": [
    {
     "data": {
      "text/plain": [
       "<matplotlib.image.AxesImage at 0x7f8c83f1f940>"
      ]
     },
     "execution_count": 91,
     "metadata": {},
     "output_type": "execute_result"
    },
    {
     "data": {
      "image/png": "[encoded data removed]",
      "text/plain": [
       "<Figure size 432x288 with 1 Axes>"
      ]
     },
     "metadata": {
      "needs_background": "light"
     },
     "output_type": "display_data"
    }
   ],
   "source": [
    "plt.imshow(liver_img_arr[9,:,:]) #, cmap='gray', vmin=-100, vmax=300)\n",
    "# plt.imshow(liver_mask[9,:,:], cmap='gray')"
   ]
  },
  {
   "cell_type": "code",
   "execution_count": 90,
   "metadata": {},
   "outputs": [
    {
     "data": {
      "text/plain": [
       "<matplotlib.image.AxesImage at 0x7f8c83f483d0>"
      ]
     },
     "execution_count": 90,
     "metadata": {},
     "output_type": "execute_result"
    },
    {
     "data": {
      "image/png": "[encoded data removed]",
      "text/plain": [
       "<Figure size 432x288 with 1 Axes>"
      ]
     },
     "metadata": {
      "needs_background": "light"
     },
     "output_type": "display_data"
    }
   ],
   "source": [
    "# plt.imshow(tumor_img_arr[9,:,:], cmap='gray', vmin=-100, vmax=300)\n",
    "plt.imshow(tumor_mask[9, :, :])"
   ]
  },
  {
   "cell_type": "code",
   "execution_count": 71,
   "metadata": {},
   "outputs": [
    {
     "data": {
      "text/plain": [
       "(array([ 6,  6,  6,  6,  6,  6,  6,  6,  6,  6,  6,  6,  6,  6,  6,  6,  6,\n",
       "         6,  6,  6,  6,  6,  6,  6,  6,  6,  6,  6,  6,  6,  6,  6,  6,  6,\n",
       "         6,  6,  6,  6,  6,  6,  6,  6,  6,  6,  6,  6,  6,  6,  6,  6,  6,\n",
       "         6,  6,  6,  6,  6,  6,  6,  6,  6,  6,  6,  6,  6,  6,  6,  6,  6,\n",
       "         6,  6,  6,  6,  6,  6,  6,  6,  6,  6,  6,  6,  6,  6,  6,  6,  6,\n",
       "         6,  6,  6,  6,  6,  6,  6,  6,  6,  6,  6,  6,  7,  7,  7,  7,  7,\n",
       "         7,  7,  7,  7,  7,  7,  7,  7,  7,  7,  7,  7,  7,  7,  7,  7,  7,\n",
       "         7,  7,  7,  7,  7,  7,  7,  7,  7,  7,  7,  7,  7,  7,  7,  7,  7,\n",
       "         7,  7,  7,  7,  7,  7,  7,  7,  7,  7,  7,  7,  7,  7,  7,  7,  7,\n",
       "         7,  7,  7,  7,  7,  7,  7,  7,  7,  7,  7,  7,  7,  7,  7,  7,  7,\n",
       "         7,  7,  7,  7,  7,  7,  7,  7,  7,  7,  7,  7,  7,  7,  7,  7,  7,\n",
       "         7,  7,  7,  7,  7,  7,  7,  7,  7,  7,  7,  7,  7,  7,  7,  7,  7,\n",
       "         7,  7,  7,  7,  7,  7,  7,  7,  7,  7,  7,  7,  7,  7,  7,  7,  7,\n",
       "         7,  7,  7,  7,  7,  7,  7,  7,  7,  7,  7,  7,  7,  7,  7,  7,  7,\n",
       "         7,  8,  8,  8,  8,  8,  8,  8,  8,  8,  8,  8,  8,  8,  8,  8,  8,\n",
       "         8,  8,  8,  8,  8,  8,  8,  8,  8,  8,  8,  8,  8,  8,  8,  8,  8,\n",
       "         8,  8,  8,  8,  8,  8,  8,  8,  8,  8,  8,  8,  8,  8,  8,  8,  8,\n",
       "         8,  8,  8,  8,  8,  8,  8,  8,  8,  8,  8,  8,  8,  8,  8,  8,  8,\n",
       "         8,  8,  8,  8,  8,  8,  8,  8,  8,  8,  8,  8,  8,  8,  8,  8,  8,\n",
       "         8,  8,  8,  8,  8,  8,  8,  8,  8,  8,  8,  8,  8,  8,  8,  8,  8,\n",
       "         8,  8,  8,  8,  8,  8,  8,  8,  8,  8,  8,  8,  8,  8,  8,  8,  8,\n",
       "         8,  9,  9,  9,  9,  9,  9,  9,  9,  9,  9,  9,  9,  9,  9,  9,  9,\n",
       "         9,  9,  9,  9,  9,  9,  9,  9,  9,  9,  9,  9,  9,  9,  9,  9,  9,\n",
       "         9,  9,  9,  9,  9,  9,  9,  9,  9,  9,  9,  9,  9,  9,  9,  9,  9,\n",
       "         9,  9,  9,  9,  9,  9,  9,  9,  9,  9,  9,  9,  9,  9,  9,  9,  9,\n",
       "         9,  9,  9,  9,  9,  9,  9,  9,  9,  9,  9,  9,  9,  9,  9,  9,  9,\n",
       "         9,  9,  9,  9,  9,  9,  9,  9, 10, 10, 10, 10, 10, 10, 10, 10, 10,\n",
       "        10, 10, 10, 10, 10, 10, 10, 10, 10, 10, 10, 10, 10, 10, 10, 10, 10,\n",
       "        10, 10, 10, 10, 10, 10, 10, 10, 10, 10, 10, 10, 10, 10, 10, 10, 10,\n",
       "        10, 10, 10, 10, 10, 10, 10, 10, 10, 10, 10, 10, 10, 10, 10, 10, 10,\n",
       "        10, 10, 10, 10, 10, 10, 10, 10, 10, 10, 10, 10, 10, 10, 10, 10, 10,\n",
       "        10]),\n",
       " array([214, 214, 214, 215, 215, 215, 215, 215, 215, 216, 216, 216, 216,\n",
       "        216, 216, 216, 216, 217, 217, 217, 217, 217, 217, 217, 217, 217,\n",
       "        218, 218, 218, 218, 218, 218, 218, 218, 218, 218, 219, 219, 219,\n",
       "        219, 219, 219, 219, 219, 219, 219, 219, 220, 220, 220, 220, 220,\n",
       "        220, 220, 220, 220, 220, 220, 221, 221, 221, 221, 221, 221, 221,\n",
       "        221, 221, 221, 221, 222, 222, 222, 222, 222, 222, 222, 222, 222,\n",
       "        222, 222, 223, 223, 223, 223, 223, 223, 223, 223, 223, 224, 224,\n",
       "        224, 224, 224, 224, 224, 224, 211, 211, 211, 211, 211, 212, 212,\n",
       "        212, 212, 212, 212, 212, 212, 213, 213, 213, 213, 213, 213, 213,\n",
       "        213, 213, 213, 214, 214, 214, 214, 214, 214, 214, 214, 214, 214,\n",
       "        214, 215, 215, 215, 215, 215, 215, 215, 215, 215, 215, 215, 215,\n",
       "        216, 216, 216, 216, 216, 216, 216, 216, 216, 216, 216, 216, 216,\n",
       "        217, 217, 217, 217, 217, 217, 217, 217, 217, 217, 217, 217, 217,\n",
       "        218, 218, 218, 218, 218, 218, 218, 218, 218, 218, 218, 218, 218,\n",
       "        219, 219, 219, 219, 219, 219, 219, 219, 219, 219, 219, 219, 219,\n",
       "        220, 220, 220, 220, 220, 220, 220, 220, 220, 220, 220, 220, 221,\n",
       "        221, 221, 221, 221, 221, 221, 221, 221, 221, 221, 221, 222, 222,\n",
       "        222, 222, 222, 222, 222, 222, 222, 222, 223, 223, 223, 223, 223,\n",
       "        223, 223, 223, 224, 224, 213, 213, 213, 213, 213, 213, 213, 213,\n",
       "        213, 213, 214, 214, 214, 214, 214, 214, 214, 214, 214, 214, 214,\n",
       "        215, 215, 215, 215, 215, 215, 215, 215, 215, 215, 215, 215, 215,\n",
       "        216, 216, 216, 216, 216, 216, 216, 216, 216, 216, 216, 216, 216,\n",
       "        217, 217, 217, 217, 217, 217, 217, 217, 217, 217, 217, 217, 217,\n",
       "        218, 218, 218, 218, 218, 218, 218, 218, 218, 218, 218, 218, 218,\n",
       "        219, 219, 219, 219, 219, 219, 219, 219, 219, 219, 219, 219, 220,\n",
       "        220, 220, 220, 220, 220, 220, 220, 220, 220, 220, 221, 221, 221,\n",
       "        221, 221, 221, 221, 221, 221, 222, 222, 222, 222, 222, 222, 222,\n",
       "        222, 223, 223, 223, 223, 223, 223, 213, 213, 214, 214, 214, 214,\n",
       "        214, 214, 215, 215, 215, 215, 215, 215, 215, 215, 215, 216, 216,\n",
       "        216, 216, 216, 216, 216, 216, 216, 217, 217, 217, 217, 217, 217,\n",
       "        217, 217, 217, 217, 218, 218, 218, 218, 218, 218, 218, 218, 218,\n",
       "        218, 218, 219, 219, 219, 219, 219, 219, 219, 219, 219, 219, 219,\n",
       "        220, 220, 220, 220, 220, 220, 220, 220, 220, 220, 220, 221, 221,\n",
       "        221, 221, 221, 221, 221, 221, 221, 222, 222, 222, 222, 222, 222,\n",
       "        222, 222, 223, 223, 223, 223, 223, 224, 215, 215, 215, 215, 215,\n",
       "        216, 216, 216, 216, 216, 216, 216, 217, 217, 217, 217, 217, 217,\n",
       "        217, 217, 218, 218, 218, 218, 218, 218, 218, 218, 218, 218, 219,\n",
       "        219, 219, 219, 219, 219, 219, 219, 219, 219, 220, 220, 220, 220,\n",
       "        220, 220, 220, 220, 220, 220, 221, 221, 221, 221, 221, 221, 221,\n",
       "        221, 221, 221, 222, 222, 222, 222, 222, 222, 222, 222, 222, 222,\n",
       "        223, 223, 223, 223, 223, 223, 223, 223]),\n",
       " array([145, 146, 147, 143, 144, 145, 146, 147, 148, 142, 143, 144, 145,\n",
       "        146, 147, 148, 149, 141, 142, 143, 144, 145, 146, 147, 148, 149,\n",
       "        141, 142, 143, 144, 145, 146, 147, 148, 149, 150, 140, 141, 142,\n",
       "        143, 144, 145, 146, 147, 148, 149, 150, 140, 141, 142, 143, 144,\n",
       "        145, 146, 147, 148, 149, 150, 140, 141, 142, 143, 144, 145, 146,\n",
       "        147, 148, 149, 150, 140, 141, 142, 143, 144, 145, 146, 147, 148,\n",
       "        149, 150, 141, 142, 143, 144, 145, 146, 147, 148, 149, 141, 142,\n",
       "        143, 144, 145, 146, 147, 148, 147, 148, 149, 150, 151, 146, 147,\n",
       "        148, 149, 150, 151, 152, 153, 145, 146, 147, 148, 149, 150, 151,\n",
       "        152, 153, 154, 145, 146, 147, 148, 149, 150, 151, 152, 153, 154,\n",
       "        155, 144, 145, 146, 147, 148, 149, 150, 151, 152, 153, 154, 155,\n",
       "        144, 145, 146, 147, 148, 149, 150, 151, 152, 153, 154, 155, 156,\n",
       "        144, 145, 146, 147, 148, 149, 150, 151, 152, 153, 154, 155, 156,\n",
       "        144, 145, 146, 147, 148, 149, 150, 151, 152, 153, 154, 155, 156,\n",
       "        144, 145, 146, 147, 148, 149, 150, 151, 152, 153, 154, 155, 156,\n",
       "        145, 146, 147, 148, 149, 150, 151, 152, 153, 154, 155, 156, 145,\n",
       "        146, 147, 148, 149, 150, 151, 152, 153, 154, 155, 156, 146, 147,\n",
       "        148, 149, 150, 151, 152, 153, 154, 155, 146, 147, 148, 149, 150,\n",
       "        151, 152, 153, 148, 149, 150, 151, 152, 153, 154, 155, 156, 157,\n",
       "        158, 159, 149, 150, 151, 152, 153, 154, 155, 156, 157, 158, 159,\n",
       "        148, 149, 150, 151, 152, 153, 154, 155, 156, 157, 158, 159, 160,\n",
       "        148, 149, 150, 151, 152, 153, 154, 155, 156, 157, 158, 159, 160,\n",
       "        148, 149, 150, 151, 152, 153, 154, 155, 156, 157, 158, 159, 160,\n",
       "        148, 149, 150, 151, 152, 153, 154, 155, 156, 157, 158, 159, 160,\n",
       "        149, 150, 151, 152, 153, 154, 155, 156, 157, 158, 159, 160, 150,\n",
       "        151, 152, 153, 154, 155, 156, 157, 158, 159, 160, 151, 152, 153,\n",
       "        154, 155, 156, 157, 158, 159, 152, 153, 154, 155, 156, 157, 158,\n",
       "        159, 153, 154, 155, 156, 157, 158, 157, 158, 155, 156, 157, 158,\n",
       "        159, 160, 153, 154, 155, 156, 157, 158, 159, 160, 161, 153, 154,\n",
       "        155, 156, 157, 158, 159, 160, 161, 152, 153, 154, 155, 156, 157,\n",
       "        158, 159, 160, 161, 152, 153, 154, 155, 156, 157, 158, 159, 160,\n",
       "        161, 162, 152, 153, 154, 155, 156, 157, 158, 159, 160, 161, 162,\n",
       "        152, 153, 154, 155, 156, 157, 158, 159, 160, 161, 162, 153, 154,\n",
       "        155, 156, 157, 158, 159, 160, 161, 154, 155, 156, 157, 158, 159,\n",
       "        160, 161, 156, 157, 158, 159, 160, 158, 159, 160, 161, 162, 163,\n",
       "        158, 159, 160, 161, 162, 163, 164, 157, 158, 159, 160, 161, 162,\n",
       "        163, 164, 156, 157, 158, 159, 160, 161, 162, 163, 164, 165, 156,\n",
       "        157, 158, 159, 160, 161, 162, 163, 164, 165, 156, 157, 158, 159,\n",
       "        160, 161, 162, 163, 164, 165, 156, 157, 158, 159, 160, 161, 162,\n",
       "        163, 164, 165, 157, 158, 159, 160, 161, 162, 163, 164, 165, 166,\n",
       "        158, 159, 160, 161, 162, 163, 164, 165]))"
      ]
     },
     "execution_count": 71,
     "metadata": {},
     "output_type": "execute_result"
    }
   ],
   "source": [
    "tumor_mask.nonzero()"
   ]
  },
  {
   "cell_type": "code",
   "execution_count": null,
   "metadata": {},
   "outputs": [],
   "source": []
  }
 ],
 "metadata": {
  "interpreter": {
   "hash": "2e1dcf25991cc37b341b5f3ead602396e0082c142e9fd691029809fec5a270ff"
  },
  "kernelspec": {
   "display_name": "Python 3.9.7 ('deepicc')",
   "language": "python",
   "name": "python3"
  },
  "language_info": {
   "codemirror_mode": {
    "name": "ipython",
    "version": 3
   },
   "file_extension": ".py",
   "mimetype": "text/x-python",
   "name": "python",
   "nbconvert_exporter": "python",
   "pygments_lexer": "ipython3",
   "version": "3.9.7"
  },
  "orig_nbformat": 4
 },
 "nbformat": 4,
 "nbformat_minor": 2
}
