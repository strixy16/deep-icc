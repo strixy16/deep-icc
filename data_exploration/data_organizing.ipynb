{
 "cells": [
  {
   "cell_type": "code",
   "execution_count": 63,
   "id": "3d58132e-c593-4d91-a32a-66252a16886b",
   "metadata": {},
   "outputs": [],
   "source": [
    "import os\n",
    "import pandas as pd"
   ]
  },
  {
   "cell_type": "code",
   "execution_count": 22,
   "id": "39918075-15d5-463f-a80f-f9705c61dce4",
   "metadata": {},
   "outputs": [],
   "source": [
    "katy_data_path_eras = \"../../Data/cholangio/Erasmus/tumors/\"\n",
    "katy_data_path_msk = \"../../Data/cholangio/MSK/tumor/\"\n",
    "\n",
    "amber_data_path = \"../../Data/amber_data\""
   ]
  },
  {
   "cell_type": "code",
   "execution_count": 41,
   "id": "611babf6-d873-41d0-a97b-0d6d4ab7cb44",
   "metadata": {},
   "outputs": [
    {
     "name": "stdout",
     "output_type": "stream",
     "text": [
      "Katy mhd:  246\n",
      "Katy raw:  246\n"
     ]
    }
   ],
   "source": [
    "katy_files_eras = os.listdir(katy_data_path_eras)\n",
    "katy_files_msk = os.listdir(katy_data_path_msk)\n",
    "\n",
    "katy_files = katy_files_eras + katy_files_msk\n",
    "\n",
    "katy_files_mhd = [x for x in katy_files if \"mhd\" in x]\n",
    "katy_files_raw = [x for x in katy_files if \"raw\" in x]\n",
    "\n",
    "print(\"Katy mhd: \", len(katy_files_mhd))\n",
    "print(\"Katy raw: \", len(katy_files_raw))"
   ]
  },
  {
   "cell_type": "code",
   "execution_count": 42,
   "id": "e7320b6f-b5f8-4d50-afbf-cdaba8269191",
   "metadata": {},
   "outputs": [
    {
     "name": "stdout",
     "output_type": "stream",
     "text": [
      "Amber mhd:  279\n",
      "Amber raw:  279\n"
     ]
    }
   ],
   "source": [
    "amber_files = os.listdir(amber_data_path)\n",
    "\n",
    "amber_files_mhd = [x for x in amber_files if \"mhd\" in x]\n",
    "amber_files_raw = [x for x in amber_files if \"raw\" in x]\n",
    "\n",
    "print(\"Amber mhd: \", len(amber_files_mhd))\n",
    "print(\"Amber raw: \", len(amber_files_raw))"
   ]
  },
  {
   "cell_type": "code",
   "execution_count": 58,
   "id": "51545878-bfc8-457a-817a-a38cc35cfcdf",
   "metadata": {},
   "outputs": [
    {
     "name": "stdout",
     "output_type": "stream",
     "text": [
      "Katy missing count:  67\n"
     ]
    }
   ],
   "source": [
    "set_amb_files_mhd = set(amber_files_mhd)\n",
    "set_kt_files_mhd = set(katy_files_mhd)\n",
    "set_moved_files_mhd = set(cholAmb_files_mhd)\n",
    "\n",
    "kt_missing_files = (set_amb_files_mhd ^ set_kt_files_mhd)&set_amb_files_mhd\n",
    "\n",
    "print(\"Katy missing count: \", len(kt_missing_files))"
   ]
  },
  {
   "cell_type": "code",
   "execution_count": 55,
   "id": "6e701b30-a029-4515-9e71-12c6e7dd72e5",
   "metadata": {},
   "outputs": [
    {
     "name": "stdout",
     "output_type": "stream",
     "text": [
      "mhd:  67\n",
      "raw:  67\n"
     ]
    }
   ],
   "source": [
    "chol_moved = os.listdir(\"../../Data/cholangio/Amber\")\n",
    "\n",
    "chol_moved_files_mhd = [x for x in chol_moved if \"mhd\" in x]\n",
    "chol_moved_files_raw = [x for x in chol_moved if \"raw\" in x]\n",
    "print(\"mhd: \", len(chol_moved_files_mhd))\n",
    "print(\"raw: \", len(chol_moved_files_raw))"
   ]
  },
  {
   "cell_type": "code",
   "execution_count": 99,
   "id": "eb40c648-5e7c-4526-86dd-d6cf86fee87e",
   "metadata": {},
   "outputs": [
    {
     "name": "stdout",
     "output_type": "stream",
     "text": [
      "313\n"
     ]
    }
   ],
   "source": [
    "all_patient_files = katy_files + chol_moved\n",
    "\n",
    "all_patients = [x for x in all_patient_files if \"mhd\" in x]\n",
    "print(len(all_patients))\n",
    "\n",
    "ver1_patient_ids = [x[:-10] for x in all_patients if \"_Tumor.mhd\" in x]\n",
    "\n",
    "ver2_patient_ids = [x[:-4] for x in all_patients if \"_Tumor.mhd\" not in x]\n",
    "\n",
    "all_patient_ids = ver1_patient_ids + ver2_patient_ids\n",
    "\n",
    "all_patient_ids_tbl = pd.DataFrame({'ScoutID':all_patient_ids})\n",
    "all_patient_ids_tbl.to_excel(\"../../Data/all_patients.xlsx\")"
   ]
  },
  {
   "cell_type": "code",
   "execution_count": 68,
   "id": "684129c5-0a66-49aa-a379-64cfc044a572",
   "metadata": {},
   "outputs": [],
   "source": [
    "# find out which no_genetics patients have RFS labels\n",
    "no_genetics_tbl = pd.read_excel(\"../../Data/nogeneticdata_patients.xlsx\")\n",
    "\n",
    "rfs_labelled_tbl = pd.read_excel(\"../../Data/RFS_Scout.xlsx\")"
   ]
  },
  {
   "cell_type": "code",
   "execution_count": 70,
   "id": "41a5ef7f-dcce-4245-b10f-8210bda967ac",
   "metadata": {},
   "outputs": [],
   "source": [
    "nogene_wrfs = pd.merge(no_genetics_tbl, rfs_labelled_tbl, how='inner', on=['ScoutID'])\n",
    "nogene_wrfs.to_excel(\"../../Data/no_genes_with_rfs.xlsx\")"
   ]
  },
  {
   "cell_type": "code",
   "execution_count": 73,
   "id": "efbf0830-38e2-4c2f-92ad-52df33e2db08",
   "metadata": {},
   "outputs": [],
   "source": [
    "rfs_and_genes_tbl = pd.read_excel(\"../../Data/labelled_Genomic_Data.xlsx\")\n",
    "should_be_empty = pd.merge(nogene_wrfs, rfs_and_genes_tbl, on=['ScoutID'])"
   ]
  },
  {
   "cell_type": "code",
   "execution_count": 110,
   "id": "2a1072b9-177b-42f7-bf89-8120a1ff7d93",
   "metadata": {},
   "outputs": [
    {
     "name": "stdout",
     "output_type": "stream",
     "text": [
      "Patients w/ images and genes:  136\n",
      "Patients w/ images, genes, and RFS labels:  111\n"
     ]
    }
   ],
   "source": [
    "MSK_genomic_data = pd.read_excel(\"../../Data/MSK_Genomic_Data.xlsx\")\n",
    "MSK_genomic_data['ScoutID'] = MSK_genomic_data['ScoutID'].str.strip()\n",
    "pats_w_genes = pd.merge(MSK_genomic_data, all_patient_ids_tbl, on=['ScoutID'])\n",
    "print(\"Patients w/ images and genes: \", len(pats_w_genes.ScoutID))\n",
    "\n",
    "pats_w_genes_and_labels = pd.merge(pats_w_genes, rfs_labelled_tbl, on=['ScoutID'])\n",
    "print(\"Patients w/ images, genes, and RFS labels: \", len(pats_w_genes_and_labels.ScoutID))"
   ]
  },
  {
   "cell_type": "code",
   "execution_count": 119,
   "id": "e4d821d5-4295-427c-be9d-053c5c41f22d",
   "metadata": {},
   "outputs": [
    {
     "data": {
      "text/plain": [
       "{'011_ICCradio',\n",
       " '012_ICCradio',\n",
       " '013_ICCradio',\n",
       " '014_ICCradio',\n",
       " '015_ICCradio',\n",
       " '016_ICCradio',\n",
       " '017_ICCradio',\n",
       " '020_ICCradio',\n",
       " '021_ICCradio',\n",
       " '026_ICCradio',\n",
       " '027_ICCradio',\n",
       " '028_ICCradio',\n",
       " '030_ICCradio',\n",
       " '032_ICCradio',\n",
       " '033_ICCradio',\n",
       " '034_ICCradio',\n",
       " '035_ICCradio',\n",
       " '036_ICCradio',\n",
       " '037_ICCradio',\n",
       " '038_ICCradio',\n",
       " '040_ICCradio',\n",
       " '041_ICCradio',\n",
       " '043_ICCradio',\n",
       " '045_ICCradio',\n",
       " '047_ICCradio'}"
      ]
     },
     "execution_count": 119,
     "metadata": {},
     "output_type": "execute_result"
    }
   ],
   "source": [
    "im_and_gene = set(MSK_genomic_data['ScoutID'].tolist())\n",
    "im_gene_and_label = set(pats_w_genes_and_labels['ScoutID'].tolist())\n",
    "\n",
    "(im_and_gene ^ im_gene_and_label) & im_and_gene"
   ]
  },
  {
   "cell_type": "code",
   "execution_count": 129,
   "id": "4218e07f-c846-4243-8fb5-ebe47d66598c",
   "metadata": {},
   "outputs": [],
   "source": [
    "# Finding patients with no genetics and no rfs\n",
    "# all_patient_ids - list\n",
    "# MSK_genomic_data - pd dataframe\n",
    "# rfs_labelled_tbl - pd dataframe\n",
    "\n",
    "pats = set(all_patient_ids)\n",
    "genes = set(MSK_genomic_data['ScoutID'].tolist())\n",
    "labels = set(rfs_labelled_tbl['ScoutID'].tolist())\n",
    "\n",
    "# no genes\n",
    "pats_no_genes = (pats ^ genes) & pats\n",
    "\n",
    "# no genes and labels\n",
    "pats_no_genes_no_labels = (pats_no_genes ^ labels) & pats_no_genes\n",
    "\n",
    "len(pats_no_genes_no_labels)\n",
    "\n",
    "pats_nogenes_nolabels_tbl = pd.DataFrame({'ScoutID':list(pats_no_genes_no_labels)})\n",
    "pats_nogenes_nolabels_tbl.sort_values('ScoutID', inplace=True)\n",
    "pats_nogenes_nolabels_tbl.to_excel(\"../../Data/images_only_data.xlsx\")"
   ]
  },
  {
   "cell_type": "code",
   "execution_count": 124,
   "id": "873a09b3-4d37-404a-b0d5-e6a5a985e7ed",
   "metadata": {},
   "outputs": [
    {
     "data": {
      "text/plain": [
       "103"
      ]
     },
     "execution_count": 124,
     "metadata": {},
     "output_type": "execute_result"
    }
   ],
   "source": [
    "313-210"
   ]
  },
  {
   "cell_type": "code",
   "execution_count": 134,
   "id": "552daa22-eb65-4685-a5a2-427cd7985746",
   "metadata": {},
   "outputs": [
    {
     "data": {
      "text/html": [
       "<div>\n",
       "<style scoped>\n",
       "    .dataframe tbody tr th:only-of-type {\n",
       "        vertical-align: middle;\n",
       "    }\n",
       "\n",
       "    .dataframe tbody tr th {\n",
       "        vertical-align: top;\n",
       "    }\n",
       "\n",
       "    .dataframe thead th {\n",
       "        text-align: right;\n",
       "    }\n",
       "</style>\n",
       "<table border=\"1\" class=\"dataframe\">\n",
       "  <thead>\n",
       "    <tr style=\"text-align: right;\">\n",
       "      <th></th>\n",
       "      <th>ScoutID</th>\n",
       "      <th>RFS_Code</th>\n",
       "      <th>RFS</th>\n",
       "    </tr>\n",
       "  </thead>\n",
       "  <tbody>\n",
       "  </tbody>\n",
       "</table>\n",
       "</div>"
      ],
      "text/plain": [
       "Empty DataFrame\n",
       "Columns: [ScoutID, RFS_Code, RFS]\n",
       "Index: []"
      ]
     },
     "execution_count": 134,
     "metadata": {},
     "output_type": "execute_result"
    }
   ],
   "source": [
    "should_be_empty = pd.merge(pats_nogenes_nolabels_tbl,nogene_wrfs, on=['ScoutID'])\n",
    "should_be_empty"
   ]
  },
  {
   "cell_type": "code",
   "execution_count": 138,
   "id": "f3deed3e-cbba-4e3f-893b-3d6bdcc69578",
   "metadata": {},
   "outputs": [
    {
     "data": {
      "text/plain": [
       "74"
      ]
     },
     "execution_count": 138,
     "metadata": {},
     "output_type": "execute_result"
    }
   ],
   "source": [
    "211-137"
   ]
  },
  {
   "cell_type": "code",
   "execution_count": 139,
   "id": "9bdce163-638d-488d-b36d-87f5dccbe9f9",
   "metadata": {},
   "outputs": [
    {
     "data": {
      "text/plain": [
       "111"
      ]
     },
     "execution_count": 139,
     "metadata": {},
     "output_type": "execute_result"
    }
   ],
   "source": [
    "112-1"
   ]
  },
  {
   "cell_type": "code",
   "execution_count": 140,
   "id": "cbc24152-39d1-4dcb-b47b-b0dfd6d5f08f",
   "metadata": {},
   "outputs": [
    {
     "data": {
      "text/plain": [
       "185"
      ]
     },
     "execution_count": 140,
     "metadata": {},
     "output_type": "execute_result"
    }
   ],
   "source": [
    "111+74"
   ]
  },
  {
   "cell_type": "code",
   "execution_count": null,
   "id": "39485850-e8eb-4eeb-9cd2-54a2ad905774",
   "metadata": {},
   "outputs": [],
   "source": []
  }
 ],
 "metadata": {
  "kernelspec": {
   "display_name": "Python 3",
   "language": "python",
   "name": "python3"
  },
  "language_info": {
   "codemirror_mode": {
    "name": "ipython",
    "version": 3
   },
   "file_extension": ".py",
   "mimetype": "text/x-python",
   "name": "python",
   "nbconvert_exporter": "python",
   "pygments_lexer": "ipython3",
   "version": "3.9.6"
  }
 },
 "nbformat": 4,
 "nbformat_minor": 5
}
