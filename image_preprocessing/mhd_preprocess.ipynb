{
 "cells": [
  {
   "cell_type": "code",
   "execution_count": 2,
   "id": "a016a7ec-09c7-41fd-8cdb-a252ad2ad2e5",
   "metadata": {},
   "outputs": [],
   "source": [
    "import SimpleITK as sitk\n",
    "import os\n",
    "import matplotlib.pyplot as plt"
   ]
  },
  {
   "cell_type": "code",
   "execution_count": 14,
   "id": "7cfeffff-f5f7-4424-ab33-c5b6d4340abb",
   "metadata": {},
   "outputs": [
    {
     "name": "stdout",
     "output_type": "stream",
     "text": [
      "MSK tumor file count:  33\n"
     ]
    },
    {
     "data": {
      "text/plain": [
       "['Erasmus_ICC-013_Tumor.mhd',\n",
       " 'Erasmus_ICC-038_Tumor.mhd',\n",
       " 'Erasmus_ICC-003_Tumor.mhd',\n",
       " 'Erasmus_ICC-004_Tumor.mhd',\n",
       " 'Erasmus_ICC-005_Tumor.mhd',\n",
       " 'Erasmus_ICC-006_Tumor.mhd',\n",
       " 'Erasmus_ICC-008_Tumor.mhd',\n",
       " 'Erasmus_ICC-009_Tumor.mhd',\n",
       " 'Erasmus_ICC-011_Tumor.mhd',\n",
       " 'Erasmus_ICC-015_Tumor.mhd',\n",
       " 'Erasmus_ICC-016_Tumor.mhd',\n",
       " 'Erasmus_ICC-017_Tumor.mhd',\n",
       " 'Erasmus_ICC-018_Tumor.mhd',\n",
       " 'Erasmus_ICC-020_Tumor.mhd',\n",
       " 'Erasmus_ICC-021_Tumor.mhd',\n",
       " 'Erasmus_ICC-022_Tumor.mhd',\n",
       " 'Erasmus_ICC-023_Tumor.mhd',\n",
       " 'Erasmus_ICC-024_Tumor.mhd',\n",
       " 'Erasmus_ICC-028_Tumor.mhd',\n",
       " 'Erasmus_ICC-029_Tumor.mhd',\n",
       " 'Erasmus_ICC-031_Tumor.mhd',\n",
       " 'Erasmus_ICC-036_Tumor.mhd',\n",
       " 'Erasmus_ICC-037_Tumor.mhd',\n",
       " 'Erasmus_ICC-039_Tumor.mhd',\n",
       " 'Erasmus_ICC-043_Tumor.mhd',\n",
       " 'Erasmus_ICC-046_Tumor.mhd',\n",
       " 'Erasmus_ICC-048_Tumor.mhd',\n",
       " 'Erasmus_ICC-052_Tumor.mhd',\n",
       " 'Erasmus_ICC-054_Tumor.mhd',\n",
       " 'Erasmus_ICC-055_Tumor.mhd',\n",
       " 'Erasmus_ICC-057_Tumor.mhd',\n",
       " 'Erasmus_ICC-058_Tumor.mhd',\n",
       " 'Erasmus_ICC-060_Tumor.mhd']"
      ]
     },
     "execution_count": 14,
     "metadata": {},
     "output_type": "execute_result"
    }
   ],
   "source": [
    "tumor_path = \"../../Data/cholangio/Erasmus/tumors\"\n",
    "\n",
    "tumor_files = os.listdir(tumor_path)\n",
    "tumor_files_mhd = [x for x in tumor_files if \"mhd\" in x]\n",
    "\n",
    "print(\"MSK tumor file count: \", len(tumor_files_mhd))\n",
    "tumor_files_mhd"
   ]
  },
  {
   "cell_type": "code",
   "execution_count": 29,
   "id": "9ed5b844-ea11-4c84-8b19-4735f8986923",
   "metadata": {},
   "outputs": [],
   "source": [
    "for idx in range(0):\n",
    "    file_path = os.path.join(tumor_path, tumor_files_mhd[idx])\n",
    "    \n",
    "    mhd_image = sitk.ReadImage(file_path)\n",
    "    arr = sitk.GetArrayFromImage(mhd_image)\n",
    "    \n",
    "    print(arr)"
   ]
  },
  {
   "cell_type": "code",
   "execution_count": 18,
   "id": "e084aa2e-6115-41f2-8e5e-70ca5f6c1a42",
   "metadata": {},
   "outputs": [
    {
     "data": {
      "text/plain": [
       "(205, 512, 512)"
      ]
     },
     "execution_count": 18,
     "metadata": {},
     "output_type": "execute_result"
    }
   ],
   "source": [
    "file_path = os.path.join(tumor_path, tumor_files_mhd[3])\n",
    "    \n",
    "mhd_image = sitk.ReadImage(file_path, imageIO=\"MetaImageIO\")\n",
    "\n",
    "arr = sitk.GetArrayFromImage(mhd_image)\n",
    "\n",
    "type(mhd_image)\n",
    "arr.shape"
   ]
  },
  {
   "cell_type": "code",
   "execution_count": 16,
   "id": "19bb2909-1e69-4ee3-b5d3-510c798b1577",
   "metadata": {},
   "outputs": [
    {
     "data": {
      "text/plain": [
       "<matplotlib.image.AxesImage at 0x7fde1861b910>"
      ]
     },
     "execution_count": 16,
     "metadata": {},
     "output_type": "execute_result"
    },
    {
     "data": {
      "image/png": "[encoded data removed]",
      "text/plain": [
       "<Figure size 432x288 with 1 Axes>"
      ]
     },
     "metadata": {
      "needs_background": "light"
     },
     "output_type": "display_data"
    }
   ],
   "source": [
    "plt.imshow(arr[56])"
   ]
  },
  {
   "cell_type": "code",
   "execution_count": null,
   "id": "8f013536-602a-493f-b291-5f202635c9eb",
   "metadata": {},
   "outputs": [],
   "source": []
  }
 ],
 "metadata": {
  "kernelspec": {
   "display_name": "Python 3",
   "language": "python",
   "name": "python3"
  },
  "language_info": {
   "codemirror_mode": {
    "name": "ipython",
    "version": 3
   },
   "file_extension": ".py",
   "mimetype": "text/x-python",
   "name": "python",
   "nbconvert_exporter": "python",
   "pygments_lexer": "ipython3",
   "version": "3.9.7"
  }
 },
 "nbformat": 4,
 "nbformat_minor": 5
}
