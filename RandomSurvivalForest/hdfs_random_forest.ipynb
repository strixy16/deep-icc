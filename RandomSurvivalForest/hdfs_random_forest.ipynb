{
 "cells": [
  {
   "cell_type": "code",
   "execution_count": 1,
   "metadata": {},
   "outputs": [],
   "source": [
    "import numpy as np\n",
    "import os\n",
    "import pandas as pd\n",
    "import pysurvival\n",
    "import rpy2.robjects as robjects\n",
    "import rpy2.robjects.packages as rpackages\n",
    "\n",
    "from pysurvival.utils.display import correlation_matrix\n",
    "from pysurvival.models.survival_forest import RandomSurvivalForestModel\n",
    "from pysurvival.utils.metrics import concordance_index\n",
    "\n",
    "from sklearn.model_selection import StratifiedKFold"
   ]
  },
  {
   "cell_type": "code",
   "execution_count": null,
   "metadata": {},
   "outputs": [],
   "source": [
    "# Only need to run this once\n",
    "utils = rpackages.importr('utils')\n",
    "utils.chooseCRANmirror(ind=1)\n",
    "utils.install_packages(\"survAUC\")"
   ]
  },
  {
   "cell_type": "code",
   "execution_count": null,
   "metadata": {},
   "outputs": [],
   "source": [
    "def gh_c_index(risk_pred):\n",
    "    \"\"\"\n",
    "    Calculate Gonen and Hiller's c-index using function from R (using rpy2) \n",
    "\n",
    "    Args:\n",
    "        risk_pred: np.ndarray or torch.Tensor, risk score predictions from model\n",
    "\n",
    "    Source: Gonen, M. and G. Heller (2005). \n",
    "    Concordance probability and discriminatory power in proportional hazards regression.\n",
    "    Biometrika 92, 965–970.\n",
    "    \"\"\"\n",
    "\n",
    "    # check for NaNs\n",
    "    if not isinstance(risk_pred, np.ndarray):\n",
    "        risk_pred = risk_pred.detach().cpu().numpy()\n",
    "    for a in risk_pred:\n",
    "        if np.isnan(a).any():\n",
    "            raise ValueError(\"NaNs detected in inputs, please correct or drop.\")\n",
    "\n",
    "    # Use Gonen and Hiller's c-index via the survAUC library in R\n",
    "    survAUC = rpackages.importr('survAUC')\n",
    "\n",
    "    # Get data into right format\n",
    "    R_risk_pred = robjects.vectors.FloatVector(risk_pred)\n",
    "\n",
    "    # this doesn't work yet, need to get the list to numeric type\n",
    "    # in R, this is accomplished with as.numeric and unlist()\n",
    "    R_cind = survAUC.GHCI(R_risk_pred)\n",
    "\n",
    "    # Convert back to Python list with single value\n",
    "    cind = list(R_cind)\n",
    "\n",
    "    # Return the only value in the cind list\n",
    "    return cind[0]"
   ]
  },
  {
   "cell_type": "code",
   "execution_count": 16,
   "metadata": {},
   "outputs": [],
   "source": [
    "def train_survival_model(X, t, e, num_trees, max_depth, min_node_size, seed):\n",
    "    \"\"\"\n",
    "    Function to create and run Random Survival Forest with given attributes on data.\n",
    "\n",
    "    Args:\n",
    "        X: array -- input features, rows as samples\n",
    "        t: array -- time labels for X, when event of interest or censoring occurred\n",
    "        e: array -- event labels for X, if event occurred (1=event, 0=censoring)\n",
    "        num_trees: int -- number of trees that will be built in forest model, used in initialization of model\n",
    "        max_depth: int -- maximum number of levels allowed in tree, used in model fit\n",
    "        min_node_size: int -- minimum number of samples required to be at leaf node, used in model fit\n",
    "        seed: int -- random seed used by random number generator in model fit\n",
    "\n",
    "    Returns: \n",
    "        rsf: pysurvival.model.RandomSurvivalForestModel -- model fit to input data\n",
    "    \"\"\"\n",
    "\n",
    "    # Create instance of the model\n",
    "    rsf = RandomSurvivalForestModel(num_trees=num_trees)\n",
    "\n",
    "    # Fit model to data\n",
    "    # Arguments not used from function input are defaults except importance_mode\n",
    "    # TODO: need to find out what importance mode is \n",
    "    rsf.fit(X, t, e, max_features='all', max_depth=max_depth, min_node_size=min_node_size,\n",
    "            num_threads=-1, sample_size_pct=0.63,\n",
    "            seed=seed, save_memory=False)\n",
    "\n",
    "\n",
    "    return rsf"
   ]
  },
  {
   "cell_type": "code",
   "execution_count": null,
   "metadata": {},
   "outputs": [],
   "source": [
    "def gridsearch(X, t, e):\n",
    "    \"\"\"\n",
    "    Function to run a gridsearch on various Random Survival Forest hyperparameters\n",
    "\n",
    "    Args:\n",
    "        X: array -- input features, rows as samples\n",
    "        t: array -- time labels for X, when event of interest or censoring occurred\n",
    "        e: array -- event labels for X, if event occurred (1=event, 0=censoring)\n",
    "    \"\"\"\n",
    "\n",
    "    \n",
    "\n",
    "    return None"
   ]
  },
  {
   "cell_type": "markdown",
   "metadata": {},
   "source": [
    "# Main Script"
   ]
  },
  {
   "cell_type": "code",
   "execution_count": 19,
   "metadata": {},
   "outputs": [
    {
     "name": "stdout",
     "output_type": "stream",
     "text": [
      "Harrel's C-index:  0.5629333691857613\n",
      "GH C-index:  0.9954262190633624\n"
     ]
    }
   ],
   "source": [
    "data_folder = \"/Data/FeatureSelection/\"\n",
    "\n",
    "train_liver_data = pd.read_excel(os.path.join(data_folder, \"train_liver_feats_and_labels.xlsx\"))\n",
    "test_liver_data = pd.read_excel(os.path.join(data_folder, \"test_liver_feats_and_labels.xlsx\"))\n",
    "\n",
    "X_liver = train_liver_data.drop(labels=[\"ScoutID\", \"HDFS_Time\", \"HDFS_Code\", \"Cancer_Type\"], axis=1)\n",
    "t_liver = train_liver_data[\"HDFS_Time\"]\n",
    "e_liver = train_liver_data[\"HDFS_Code\"]\n",
    "\n",
    "XT_liver = test_liver_data.drop(labels=[\"ScoutID\", \"HDFS_Time\", \"HDFS_Code\", \"Cancer_Type\"], axis=1)\n",
    "tT_liver = test_liver_data[\"HDFS_Time\"]\n",
    "eT_liver = test_liver_data[\"HDFS_Code\"]\n",
    "\n",
    "liver_rsf = train_survival_model(X_liver, t_liver, e_liver, 10, 10, 10, seed=16)\n",
    "risk = liver_rsf.predict_risk(XT_liver)\n",
    "h_c_ind = concordance_index(liver_rsf, XT_liver, tT_liver, eT_liver)\n",
    "gh_c_ind = gh_c_index(risk)\n",
    "\n",
    "print(\"Harrel's C-index: \", h_c_ind)\n",
    "print(\"GH C-index: \", gh_c_ind)"
   ]
  },
  {
   "cell_type": "code",
   "execution_count": 20,
   "metadata": {},
   "outputs": [
    {
     "name": "stdout",
     "output_type": "stream",
     "text": [
      "Harrel's C-index:  0.5290137975751902\n",
      "GH C-index:  0.9933289922791773\n"
     ]
    }
   ],
   "source": [
    "data_folder = \"/Data/FeatureSelection/\"\n",
    "\n",
    "train_tumor_data = pd.read_excel(os.path.join(data_folder, \"train_tumor_feats_and_labels.xlsx\"))\n",
    "test_tumor_data = pd.read_excel(os.path.join(data_folder, \"test_tumor_feats_and_labels.xlsx\"))\n",
    "\n",
    "X_tumor = train_tumor_data.drop(labels=[\"ScoutID\", \"HDFS_Time\", \"HDFS_Code\", \"Cancer_Type\"], axis=1)\n",
    "t_tumor = train_tumor_data[\"HDFS_Time\"]\n",
    "e_tumor = train_tumor_data[\"HDFS_Code\"]\n",
    "\n",
    "XT_tumor = test_tumor_data.drop(labels=[\"ScoutID\", \"HDFS_Time\", \"HDFS_Code\", \"Cancer_Type\"], axis=1)\n",
    "tT_tumor = test_tumor_data[\"HDFS_Time\"]\n",
    "eT_tumor = test_tumor_data[\"HDFS_Code\"]\n",
    "\n",
    "tumor_rsf = train_survival_model(X_tumor, t_tumor, e_tumor, 10, 10, 10, seed=16)\n",
    "risk = tumor_rsf.predict_risk(XT_tumor)\n",
    "h_c_ind = concordance_index(tumor_rsf, XT_tumor, tT_tumor, eT_tumor)\n",
    "gh_c_ind = gh_c_index(risk)\n",
    "\n",
    "print(\"Harrel's C-index: \", h_c_ind)\n",
    "print(\"GH C-index: \", gh_c_ind)"
   ]
  },
  {
   "cell_type": "markdown",
   "metadata": {},
   "source": [
    "# Other Code"
   ]
  },
  {
   "cell_type": "code",
   "execution_count": null,
   "metadata": {},
   "outputs": [],
   "source": [
    "# correlation_matrix(X_liver, figure_size=(30,15), text_fontsize=10)"
   ]
  },
  {
   "cell_type": "code",
   "execution_count": null,
   "metadata": {},
   "outputs": [],
   "source": []
  }
 ],
 "metadata": {
  "interpreter": {
   "hash": "231c10b5755f24f797eb0c3c8e63bc4e4867f670e74296d317db1a43eb37d021"
  },
  "kernelspec": {
   "display_name": "Python 3.8.5 ('deepicc')",
   "language": "python",
   "name": "python3"
  },
  "language_info": {
   "codemirror_mode": {
    "name": "ipython",
    "version": 3
   },
   "file_extension": ".py",
   "mimetype": "text/x-python",
   "name": "python",
   "nbconvert_exporter": "python",
   "pygments_lexer": "ipython3",
   "version": "3.8.5"
  },
  "orig_nbformat": 4
 },
 "nbformat": 4,
 "nbformat_minor": 2
}
