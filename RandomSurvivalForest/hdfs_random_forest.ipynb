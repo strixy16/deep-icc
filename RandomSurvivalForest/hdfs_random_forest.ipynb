{
 "cells": [
  {
   "cell_type": "code",
   "execution_count": 1,
   "metadata": {},
   "outputs": [],
   "source": [
    "import math\n",
    "import numpy as np\n",
    "import os\n",
    "import pandas as pd\n",
    "import pysurvival\n",
    "import rpy2.robjects as robjects\n",
    "import rpy2.robjects.packages as rpackages\n",
    "from statistics import mean, stdev\n",
    "\n",
    "from pysurvival.utils.display import correlation_matrix\n",
    "from pysurvival.models.survival_forest import RandomSurvivalForestModel\n",
    "from pysurvival.utils.metrics import concordance_index, integrated_brier_score\n",
    "from pysurvival.utils import save_model\n",
    "\n",
    "from sklearn.model_selection import StratifiedKFold, KFold\n",
    "\n",
    "from statsmodels.stats.outliers_influence import variance_inflation_factor\n",
    "\n",
    "from lifelines import CoxPHFitter\n",
    "import lifelines\n",
    "\n",
    "# from sksurv.metrics import concordance_index_censored, concordance_index_ipcw"
   ]
  },
  {
   "cell_type": "code",
   "execution_count": null,
   "metadata": {},
   "outputs": [],
   "source": [
    "# Only need to run this once\n",
    "# utils = rpackages.importr('utils')\n",
    "# utils.chooseCRANmirror(ind=1)\n",
    "# utils.install_packages(\"survAUC\")"
   ]
  },
  {
   "cell_type": "markdown",
   "metadata": {},
   "source": [
    "### Feature Selection"
   ]
  },
  {
   "cell_type": "code",
   "execution_count": 2,
   "metadata": {},
   "outputs": [],
   "source": [
    "def cox_feature_select(X, t, e):\n",
    "    # Selecting features based on variance inflation factor and ranking based on hazard ratios\n",
    "    # Number of features reduced unitl the ratio of features to events is 1:10\n",
    "    num_samples = X.shape[0]\n",
    "    num_events = sum(e)\n",
    "\n",
    "    data_table = X\n",
    "    data_table['Time'] = t\n",
    "    data_table['Event'] = e\n",
    "\n",
    "    max_num_features = math.ceil(num_events/10)\n",
    "    cph = CoxPHFitter()\n",
    "    cph.fit(data_table, duration_col='Time', event_col='Event')\n",
    "\n",
    "    hr = abs(cph.params_)\n",
    "    \n",
    "    filtered_hr = hr.nlargest(n=max_num_features, keep='first')\n",
    "    index_names = filtered_hr.index\n",
    "\n",
    "    col_names = []\n",
    "    for x in range(1, len(index_names)):\n",
    "        col_names.append(index_names[x])\n",
    "\n",
    "    filtered_X = X.filter(items=col_names, axis=1)\n",
    "    print(\"Cox filter remaining variables: \\n\", filtered_X.columns)\n",
    "\n",
    "    return filtered_X"
   ]
  },
  {
   "cell_type": "code",
   "execution_count": 3,
   "metadata": {},
   "outputs": [],
   "source": [
    "def calculate_vif(X, thresh=10):\n",
    "    # Calculate the variance inflation factor of a feature\n",
    "    variables = list(range(X.shape[1]))\n",
    "    dropped=True\n",
    "\n",
    "    while dropped:\n",
    "        dropped=False\n",
    "        vif = [variance_inflation_factor(X.iloc[:, variables].values, ix) \\\n",
    "               for ix in range(X.iloc[:, variables].shape[1])]\n",
    "    \n",
    "        maxloc = vif.index(max(vif))\n",
    "        if max(vif) > thresh:\n",
    "            # print(\"Dropping \\'\" + X.iloc[:, variables].columns[maxloc] + \"\\' at index: \"+ str(maxloc))\n",
    "            del variables[maxloc]\n",
    "            dropped = True\n",
    "    \n",
    "    print('VIF remaining variables:')\n",
    "    print(X.columns[variables])\n",
    "    return X.iloc[:, variables]"
   ]
  },
  {
   "cell_type": "markdown",
   "metadata": {},
   "source": [
    "### Model Creation and Training"
   ]
  },
  {
   "cell_type": "code",
   "execution_count": 4,
   "metadata": {},
   "outputs": [],
   "source": [
    "def gh_c_index(risk_pred):\n",
    "    \"\"\"\n",
    "    Calculate Gonen and Hiller's c-index using function from R (using rpy2) \n",
    "\n",
    "    Args:\n",
    "        risk_pred: np.ndarray or torch.Tensor, risk score predictions from model\n",
    "\n",
    "    Source: Gonen, M. and G. Heller (2005). \n",
    "    Concordance probability and discriminatory power in proportional hazards regression.\n",
    "    Biometrika 92, 965–970.\n",
    "    \"\"\"\n",
    "\n",
    "    # check for NaNs\n",
    "    if not isinstance(risk_pred, np.ndarray):\n",
    "        risk_pred = risk_pred.detach().cpu().numpy()\n",
    "    for a in risk_pred:\n",
    "        if np.isnan(a).any():\n",
    "            raise ValueError(\"NaNs detected in inputs, please correct or drop.\")\n",
    "\n",
    "    # Use Gonen and Hiller's c-index via the survAUC library in R\n",
    "    survAUC = rpackages.importr('survAUC')\n",
    "\n",
    "    # Get data into right format\n",
    "    R_risk_pred = robjects.vectors.FloatVector(risk_pred)\n",
    "\n",
    "    # this doesn't work yet, need to get the list to numeric type\n",
    "    # in R, this is accomplished with as.numeric and unlist()\n",
    "    R_cind = survAUC.GHCI(R_risk_pred)\n",
    "\n",
    "    # Convert back to Python list with single value\n",
    "    cind = list(R_cind)\n",
    "\n",
    "    # Return the only value in the cind list\n",
    "    return cind[0]"
   ]
  },
  {
   "cell_type": "code",
   "execution_count": 5,
   "metadata": {},
   "outputs": [],
   "source": [
    "def train_survival_model(X, t, e, num_trees, max_depth, min_node_size, seed=16):\n",
    "    \"\"\"\n",
    "    Function to create and run Random Survival Forest with given attributes on data.\n",
    "\n",
    "    Args:\n",
    "        X: array -- input features, rows as samples\n",
    "        t: array -- time labels for X, when event of interest or censoring occurred\n",
    "        e: array -- event labels for X, if event occurred (1=event, 0=censoring)\n",
    "        num_trees: int -- number of trees that will be built in forest model, used in initialization of model\n",
    "        max_depth: int -- maximum number of levels allowed in tree, used in model fit\n",
    "        min_node_size: int -- minimum number of samples required to be at leaf node, used in model fit\n",
    "        seed: int -- random seed used by random number generator in model fit\n",
    "\n",
    "    Returns: \n",
    "        rsf: pysurvival.model.RandomSurvivalForestModel -- model fit to input data\n",
    "    \"\"\"\n",
    "\n",
    "    # Create instance of the model\n",
    "    rsf = RandomSurvivalForestModel(num_trees=num_trees)\n",
    "\n",
    "    # Fit model to data\n",
    "    # Arguments not used from function input are defaults except importance_mode\n",
    "    # TODO: need to find out what importance mode is \n",
    "    rsf.fit(X, t, e, max_features='all', max_depth=max_depth, min_node_size=min_node_size,\n",
    "            num_threads=-1, sample_size_pct=0.63,\n",
    "            seed=seed, save_memory=False)\n",
    "\n",
    "\n",
    "    return rsf"
   ]
  },
  {
   "cell_type": "code",
   "execution_count": 6,
   "metadata": {},
   "outputs": [],
   "source": [
    "def evaluate_forest(rsf, XT, tT, eT):\n",
    "    bool_eT = eT.astype('bool')\n",
    "\n",
    "    risk = rsf.predict_risk(XT)\n",
    "    # h_c_ind = concordance_index_censored(bool_eT, tT, risk) # add [0] to h_c_ind in return line\n",
    "    h_c_ind = lifelines.utils.concordance_index(tT, risk, eT)\n",
    "    u_c_stat = concordance_index(rsf, XT, tT, eT)\n",
    "    # gh_c_ind = gh_c_index(risk)\n",
    "    ibs = integrated_brier_score(rsf, XT, tT, eT)\n",
    "\n",
    "    return h_c_ind, u_c_stat, ibs, risk\n"
   ]
  },
  {
   "cell_type": "code",
   "execution_count": 7,
   "metadata": {},
   "outputs": [],
   "source": [
    "def kfold_train_survival_model(X, t, e, num_trees, max_depth, min_node_size, k=5, seed=16):\n",
    "    CI = []\n",
    "    CPE = []\n",
    "    IBS = []\n",
    "\n",
    "    best_fold = 0\n",
    "    best_CI = 0\n",
    "    # best_GHCI = 0\n",
    "    # best_IBS = 0 \n",
    "    best_fold_rsf = None\n",
    "\n",
    "    kf = StratifiedKFold(n_splits=k, random_state=seed, shuffle=True)\n",
    "\n",
    "    history = {'train_CI': [], 'train_UnoC': [], 'train_IBS': [], \n",
    "               'valid_CI': [], 'valid_UnoC': [], 'valid_IBS': [],}\n",
    "    for fold, (train_idx, val_idx) in enumerate(kf.split(X, e)):\n",
    "        # Output current fold number\n",
    "        # print('Fold {}'.format(fold + 1))\n",
    "\n",
    "        X_train, X_val = X.loc[train_idx], X.loc[val_idx]\n",
    "        t_train, t_val = t.loc[train_idx], t.loc[val_idx]\n",
    "        e_train, e_val = e.loc[train_idx], e.loc[val_idx]\n",
    "\n",
    "        fold_rsf = train_survival_model(X_train, t_train, e_train, num_trees, max_depth, min_node_size, seed)\n",
    "\n",
    "        train_h_c_ind, train_u_c_stat, train_ibs, train_risk_preds = evaluate_forest(fold_rsf, X_train, t_train, e_train)\n",
    "        val_h_c_ind, val_u_c_stat, val_ibs, val_risk_preds = evaluate_forest(fold_rsf, X_val, t_val, e_val)\n",
    "\n",
    "        # preds_and_labels = pd.DataFrame(train_risk_preds, columns=['Prediction'])\n",
    "\n",
    "        history['train_CI'].append(train_h_c_ind)\n",
    "        history['train_UnoC'].append(train_u_c_stat)\n",
    "        history['train_IBS'].append(train_ibs)\n",
    "        history['valid_CI'].append(val_h_c_ind)\n",
    "        history['valid_UnoC'].append(val_u_c_stat)\n",
    "        history['valid_IBS'].append(val_ibs)\n",
    "\n",
    "        # Set best model based on the validation Uno's c statistic value\n",
    "        if best_CI < val_u_c_stat:\n",
    "            best_CI = val_u_c_stat\n",
    "            best_fold = fold\n",
    "            best_fold_rsf = fold_rsf\n",
    "\n",
    "    \n",
    "    train_CI_avg = mean(history['train_CI'])\n",
    "    train_CI_std = stdev(history['train_CI'])\n",
    "    train_UnoC_avg = mean(history['train_UnoC'])\n",
    "    train_UnoC_std = stdev(history['train_UnoC'])\n",
    "    train_IBS_avg = mean(history['train_IBS'])\n",
    "    train_IBS_std = stdev(history['train_IBS'])\n",
    "\n",
    "    valid_CI_avg = mean(history['valid_CI'])\n",
    "    valid_CI_std = stdev(history['valid_CI'])\n",
    "    valid_UnoC_avg = mean(history['valid_UnoC'])\n",
    "    valid_UnoC_std = stdev(history['valid_UnoC'])\n",
    "    valid_IBS_avg = mean(history['valid_IBS'])\n",
    "    valid_IBS_std = stdev(history['valid_IBS'])\n",
    "\n",
    "\n",
    "\n",
    "    avg_train_fold_results = {'CI_avg': train_CI_avg, 'CI_std': train_CI_std, \n",
    "                              'UnoC_avg': train_UnoC_avg, 'UnoC_std': train_UnoC_std,\n",
    "                              'IBS_avg': train_IBS_avg, 'IBS_std': train_IBS_std}\n",
    "\n",
    "    avg_valid_fold_results = {'CI_avg': valid_CI_avg, 'CI_std': valid_CI_std, \n",
    "                              'UnoC_avg': valid_UnoC_avg, 'UnoC_std': valid_UnoC_std,\n",
    "                              'IBS_avg': valid_IBS_avg, 'IBS_std': valid_IBS_std}\n",
    "\n",
    "    best_fold_results = {'train_CI': history['train_CI'][best_fold],\n",
    "                         'train_UnoC': history['train_UnoC'][best_fold],\n",
    "                         'train_IBS': history['train_IBS'][best_fold],\n",
    "                         'valid_CI': history['valid_CI'][best_fold],\n",
    "                         'valid_UnoC': history['valid_UnoC'][best_fold],\n",
    "                         'valid_IBS': history['valid_IBS'][best_fold]}\n",
    "\n",
    "    return avg_train_fold_results, avg_valid_fold_results, best_fold_results, best_fold_rsf\n",
    "\n",
    "\n",
    "# avg_train_fold_results, avg_valid_fold_results, best_fold_results, best_fold_rsf = \\\n",
    "#                     kfold_train_survival_model(X_liver, t_liver, e_liver, num_trees=10, max_depth=6, min_node_size=15, k=5, seed=16)"
   ]
  },
  {
   "cell_type": "code",
   "execution_count": 8,
   "metadata": {},
   "outputs": [],
   "source": [
    "def gridsearch_survival_model(X, t, e, tree_search, depth_search, node_search):\n",
    "    \"\"\"\n",
    "    Function to run a gridsearch on various Random Survival Forest hyperparameters\n",
    "\n",
    "    Args:\n",
    "        X: array -- input features, rows as samples\n",
    "        t: array -- time labels for X, when event of interest or censoring occurred\n",
    "        e: array -- event labels for X, if event occurred (1=event, 0=censoring)\n",
    "    \"\"\"\n",
    "    # Values to search through\n",
    "    num_tree=tree_search\n",
    "    max_depth=depth_search\n",
    "    min_node=node_search\n",
    "\n",
    "    # initialize variables to store best options\n",
    "    num_tree_best = 0\n",
    "    max_depth_best = 0\n",
    "    min_node_best = 0\n",
    "    curr_c_index_best = 0\n",
    "    cpe_best = 0\n",
    "    # ghci_best = 0\n",
    "    avg_train_results = None\n",
    "    avg_valid_results = None\n",
    "    best_overall_results = None\n",
    "    best_rsf = None\n",
    "\n",
    "\n",
    "    for a in num_tree:\n",
    "        for b in max_depth:\n",
    "            for c in min_node:\n",
    "                avg_train_fold_results, avg_valid_fold_results, best_fold_results, best_fold_rsf = \\\n",
    "                    kfold_train_survival_model(X, t, e, num_trees=a, max_depth=b, min_node_size=c, k=5, seed=16)\n",
    "                # print(best_fold_results['train_CI'], best_fold_results['valid_CI'])\n",
    "                best_val_ci = best_fold_results['valid_UnoC']\n",
    "                if best_val_ci > curr_c_index_best:\n",
    "                    curr_c_index_best = best_val_ci\n",
    "                    avg_train_results = avg_train_fold_results\n",
    "                    avg_valid_results = avg_valid_fold_results\n",
    "                    best_overall_results = best_fold_results\n",
    "                    num_tree_best = a\n",
    "                    max_depth_best = b\n",
    "                    min_node_best = c\n",
    "                    best_rsf = best_fold_rsf\n",
    "\n",
    "    return num_tree_best, max_depth_best, min_node_best, avg_train_results, avg_valid_results, best_overall_results, best_rsf"
   ]
  },
  {
   "cell_type": "markdown",
   "metadata": {},
   "source": [
    "# Main Script"
   ]
  },
  {
   "cell_type": "markdown",
   "metadata": {},
   "source": [
    "### Liver"
   ]
  },
  {
   "cell_type": "code",
   "execution_count": 9,
   "metadata": {},
   "outputs": [],
   "source": [
    "data_folder = \"/Data/FeatureSelection/HCC_MCRC_ICC_HDFS_90_10/\"\n",
    "\n",
    "train_liver_data = pd.read_excel(os.path.join(data_folder, \"train_liver_feats_and_labels.xlsx\"))\n",
    "test_liver_data = pd.read_excel(os.path.join(data_folder, \"test_liver_feats_and_labels.xlsx\"))\n",
    "\n",
    "features_to_drop=[]\n",
    "# features_to_drop = ['LeastAxisLength', '90Percentile', 'Contrast', 'MeshVolume', 'Complexity', 'MinorAxisLength', \\\n",
    "#                     '10Percentile', 'Uniformity', 'Mean', 'Energy', 'InterquartileRange', 'TotalEnergy', 'Busyness', \\\n",
    "#                     'RootMeanSquared', 'Maximum3DDiameter']\n",
    "\n",
    "X_liver = train_liver_data.drop(labels=[\"ScoutID\", \"HDFS_Time\", \"HDFS_Code\", \"Cancer_Type\"], axis=1)\n",
    "X_liver = X_liver.drop(labels=features_to_drop, axis=1)\n",
    "t_liver = train_liver_data[\"HDFS_Time\"]\n",
    "e_liver = train_liver_data[\"HDFS_Code\"]\n",
    "\n",
    "XT_liver = test_liver_data.drop(labels=[\"ScoutID\", \"HDFS_Time\", \"HDFS_Code\", \"Cancer_Type\"], axis=1)\n",
    "XT_liver = XT_liver.drop(labels=features_to_drop, axis=1)\n",
    "tT_liver = test_liver_data[\"HDFS_Time\"]\n",
    "eT_liver = test_liver_data[\"HDFS_Code\"]\n",
    "\n",
    "HCC_liver = test_liver_data[test_liver_data['Cancer_Type']==0]\n",
    "HCC_Xliver = HCC_liver.drop(labels=[\"ScoutID\", \"HDFS_Time\", \"HDFS_Code\", \"Cancer_Type\"], axis=1)\n",
    "HCC_tliver = HCC_liver[\"HDFS_Time\"]\n",
    "HCC_eliver = HCC_liver[\"HDFS_Code\"]\n",
    "\n",
    "MCRC_liver = test_liver_data[test_liver_data['Cancer_Type']==1]\n",
    "MCRC_Xliver = MCRC_liver.drop(labels=[\"ScoutID\", \"HDFS_Time\", \"HDFS_Code\", \"Cancer_Type\"], axis=1)\n",
    "MCRC_tliver = MCRC_liver[\"HDFS_Time\"]\n",
    "MCRC_eliver = MCRC_liver[\"HDFS_Code\"]\n",
    "\n",
    "ICC_liver = test_liver_data[test_liver_data['Cancer_Type']==2]\n",
    "ICC_Xliver = ICC_liver.drop(labels=[\"ScoutID\", \"HDFS_Time\", \"HDFS_Code\", \"Cancer_Type\"], axis=1)\n",
    "ICC_tliver = ICC_liver[\"HDFS_Time\"]\n",
    "ICC_eliver = ICC_liver[\"HDFS_Code\"]\n",
    "\n",
    "# CI_avg, GHCI_avg, IBS_avg, best_CI, best_GHCI, best_IBS, best_fold_rsf = kfold_train_survival_model(\\\n",
    "#     X_liver, t_liver, e_liver, num_trees=5, max_depth=5, min_node_size=5, k=5, seed=16)\n"
   ]
  },
  {
   "cell_type": "code",
   "execution_count": 62,
   "metadata": {},
   "outputs": [
    {
     "name": "stderr",
     "output_type": "stream",
     "text": [
      "/opt/conda/lib/python3.8/site-packages/statsmodels/stats/outliers_influence.py:195: RuntimeWarning: divide by zero encountered in double_scalars\n",
      "  vif = 1. / (1. - r_squared_i)\n"
     ]
    },
    {
     "name": "stdout",
     "output_type": "stream",
     "text": [
      "VIF remaining variables:\n",
      "Index(['Kurtosis', 'Skewness', 'Variance', 'Busyness', 'Coarseness',\n",
      "       'Complexity', 'Contrast', 'Strength', 'Flatness', 'SurfaceArea'],\n",
      "      dtype='object')\n",
      "Cox filter remaining variables: \n",
      " Index(['Contrast', 'Flatness', 'Strength', 'Skewness', 'Kurtosis', 'Busyness',\n",
      "       'Complexity', 'Variance', 'SurfaceArea'],\n",
      "      dtype='object')\n"
     ]
    },
    {
     "name": "stderr",
     "output_type": "stream",
     "text": [
      "/opt/conda/lib/python3.8/site-packages/lifelines/utils/__init__.py:1103: ConvergenceWarning: Column(s) ['Coarseness', 'Contrast'] have very low variance. This may harm convergence. 1) Are you using formula's? Did you mean to add '-1' to the end. 2) Try dropping this redundant column before fitting if convergence fails.\n",
      "\n",
      "  warnings.warn(dedent(warning_text), ConvergenceWarning)\n"
     ]
    }
   ],
   "source": [
    "liver_vselected_features = calculate_vif(X_liver, 10)\n",
    "X_liver = liver_vselected_features\n",
    "\n",
    "X_liver = cox_feature_select(X_liver, t_liver, e_liver)\n"
   ]
  },
  {
   "cell_type": "code",
   "execution_count": 64,
   "metadata": {},
   "outputs": [
    {
     "name": "stdout",
     "output_type": "stream",
     "text": [
      "Index(['Flatness', 'Strength', 'Skewness', 'Kurtosis', 'Busyness',\n",
      "       'Complexity', 'Variance', 'SurfaceArea'],\n",
      "      dtype='object')\n"
     ]
    }
   ],
   "source": [
    "X_liver.drop(labels=['Contrast'], inplace=True, axis=1)\n",
    "print(X_liver.columns)"
   ]
  },
  {
   "cell_type": "code",
   "execution_count": 10,
   "metadata": {},
   "outputs": [],
   "source": [
    "X_liver = X_liver.filter(items=['Contrast', 'Flatness', 'Strength', 'Skewness', 'Kurtosis', 'Busyness','Complexity', 'Variance', 'SurfaceArea'], axis=1)"
   ]
  },
  {
   "cell_type": "code",
   "execution_count": 11,
   "metadata": {},
   "outputs": [
    {
     "name": "stdout",
     "output_type": "stream",
     "text": [
      "Overall Uno C: 0.542614371699287\n",
      "HCC Uno C: 0.5123817712811694\n",
      "ICC Uno C: 0.6368243243243243\n",
      "MCRC Uno C: 0.5234499337001031\n"
     ]
    }
   ],
   "source": [
    "# X_liver = X_liver.filter(items=['Skewness', 'SurfaceArea', 'Variance', 'Contrast', \\\n",
    "#     'Kurtosis', 'Flatness', 'Complexity', 'Busyness', 'Strength'], axis=1)\n",
    "\n",
    "avg_train_fold_results, avg_valid_fold_results, liv_best_fold_results, liv_best_fold_rsf = \\\n",
    "                    kfold_train_survival_model(X_liver, t_liver, e_liver, num_trees=8, max_depth=5, min_node_size=15, k=5, seed=16)\n",
    "\n",
    "liver_h_c_ind, liver_u_c_stat, liver_ibs, liver_riskpreds = evaluate_forest(liv_best_fold_rsf, XT_liver, tT_liver, eT_liver)\n",
    "\n",
    "liverhcc_h_c_ind, liverhcc_u_c_stat, liverhcc_ibs, liverhcc_riskpreds = evaluate_forest(liv_best_fold_rsf, HCC_Xliver, HCC_tliver, HCC_eliver)\n",
    "livericc_h_c_ind, livericc_u_c_stat, livericc_ibs, livericc_riskpreds = evaluate_forest(liv_best_fold_rsf, ICC_Xliver, ICC_tliver, ICC_eliver)\n",
    "livermcrc_h_c_ind, livermcrc_u_c_stat, livermcrc_ibs, livermcrc_riskpreds = evaluate_forest(liv_best_fold_rsf, MCRC_Xliver, MCRC_tliver, MCRC_eliver)\n",
    "\n",
    "print(\"Overall Uno C:\", liver_u_c_stat)\n",
    "print(\"HCC Uno C:\", liverhcc_u_c_stat)\n",
    "print(\"ICC Uno C:\", livericc_u_c_stat)\n",
    "print(\"MCRC Uno C:\", livermcrc_u_c_stat)"
   ]
  },
  {
   "cell_type": "code",
   "execution_count": 26,
   "metadata": {},
   "outputs": [],
   "source": [
    "df_liver_confidence = pd.DataFrame(columns=['UnoC'])\n",
    "\n",
    "for x in range(1000):\n",
    "    samp_liver = test_liver_data.sample(test_liver_data.shape[0], replace=True)\n",
    "\n",
    "    X_sampliver = samp_liver.drop(labels=[\"ScoutID\", \"HDFS_Time\", \"HDFS_Code\", \"Cancer_Type\"], axis=1)\n",
    "    X_sampliver = X_sampliver.filter(items=['Contrast', 'Flatness', 'Strength', 'Skewness', 'Kurtosis', 'Busyness','Complexity', 'Variance', 'SurfaceArea'], axis=1)\n",
    "    t_sampliver = samp_liver[\"HDFS_Time\"]\n",
    "    e_sampliver = samp_liver[\"HDFS_Code\"]\n",
    "\n",
    "    _, sampliver_u_c_stat, _, _ = evaluate_forest(liv_best_fold_rsf, X_sampliver, t_sampliver, e_sampliver)\n",
    "    \n",
    "    df_liver_confidence.loc[x] = sampliver_u_c_stat\n",
    "\n",
    "\n",
    "df_liver_confidence.to_excel(os.path.join(data_folder, \"RSF_liver_unoC_confidence_050722.xlsx\"), index=False)"
   ]
  },
  {
   "cell_type": "code",
   "execution_count": 25,
   "metadata": {},
   "outputs": [
    {
     "data": {
      "text/html": [
       "<div>\n",
       "<style scoped>\n",
       "    .dataframe tbody tr th:only-of-type {\n",
       "        vertical-align: middle;\n",
       "    }\n",
       "\n",
       "    .dataframe tbody tr th {\n",
       "        vertical-align: top;\n",
       "    }\n",
       "\n",
       "    .dataframe thead th {\n",
       "        text-align: right;\n",
       "    }\n",
       "</style>\n",
       "<table border=\"1\" class=\"dataframe\">\n",
       "  <thead>\n",
       "    <tr style=\"text-align: right;\">\n",
       "      <th></th>\n",
       "      <th>UnoC</th>\n",
       "    </tr>\n",
       "  </thead>\n",
       "  <tbody>\n",
       "    <tr>\n",
       "      <th>0</th>\n",
       "      <td>0.636882</td>\n",
       "    </tr>\n",
       "    <tr>\n",
       "      <th>1</th>\n",
       "      <td>0.557015</td>\n",
       "    </tr>\n",
       "    <tr>\n",
       "      <th>2</th>\n",
       "      <td>0.558601</td>\n",
       "    </tr>\n",
       "    <tr>\n",
       "      <th>3</th>\n",
       "      <td>0.549818</td>\n",
       "    </tr>\n",
       "    <tr>\n",
       "      <th>4</th>\n",
       "      <td>0.640180</td>\n",
       "    </tr>\n",
       "  </tbody>\n",
       "</table>\n",
       "</div>"
      ],
      "text/plain": [
       "       UnoC\n",
       "0  0.636882\n",
       "1  0.557015\n",
       "2  0.558601\n",
       "3  0.549818\n",
       "4  0.640180"
      ]
     },
     "execution_count": 25,
     "metadata": {},
     "output_type": "execute_result"
    }
   ],
   "source": [
    "df_liver_confidence"
   ]
  },
  {
   "cell_type": "code",
   "execution_count": 15,
   "metadata": {},
   "outputs": [
    {
     "name": "stdout",
     "output_type": "stream",
     "text": [
      "Saving the model to disk as /Data/FeatureSelection/HCC_MCRC_ICC_HDFS_90_10/liver_rsf_model_050722.zip\n"
     ]
    },
    {
     "name": "stderr",
     "output_type": "stream",
     "text": [
      "/opt/conda/lib/python3.8/site-packages/pysurvival/utils/__init__.py:132: FutureWarning: 'pyarrow.serialize' is deprecated as of 2.0.0 and will be removed in a future version. Use pickle or the pyarrow IPC functionality instead.\n",
      "  model.save(path_file)\n"
     ]
    }
   ],
   "source": [
    "save_model(liv_best_fold_rsf, '/Data/FeatureSelection/HCC_MCRC_ICC_HDFS_90_10/liver_rsf_model_050722.zip')"
   ]
  },
  {
   "cell_type": "code",
   "execution_count": 69,
   "metadata": {},
   "outputs": [
    {
     "name": "stdout",
     "output_type": "stream",
     "text": [
      "Best valid c-index: 0.4004149377593361\n",
      "Best valid c-statistic 0.6553052033598726\n",
      "Best num_tree val: 10\n",
      "Best max_depth val: 6\n",
      "Best min_node val: 15\n",
      "Training: \n",
      "Harrel's C-index:  0.2812454104861213\n",
      "Uno C-statistic:  0.7200664793466427\n",
      "IBS:  0.20149187032539329\n",
      "\n",
      "Validation: \n",
      "Harrel's C-index:  0.4004149377593361\n",
      "Uno C-statistic:  0.6553052033598726\n",
      "IBS:  0.2167200297364266\n",
      "\n",
      "Testing: \n",
      "Harrel's C-index:  0.4609053497942387\n",
      "Uno C-statistic:  0.5434626903354786\n",
      "IBS:  0.2365104499501027\n",
      "\n",
      "HCC Uno C: 0.6971410146173689\n",
      "ICC Uno C: 0.6330236486486487\n",
      "MCRC Uno C: 0.5090615127123532\n"
     ]
    },
    {
     "data": {
      "text/html": [
       "<div>\n",
       "<style scoped>\n",
       "    .dataframe tbody tr th:only-of-type {\n",
       "        vertical-align: middle;\n",
       "    }\n",
       "\n",
       "    .dataframe tbody tr th {\n",
       "        vertical-align: top;\n",
       "    }\n",
       "\n",
       "    .dataframe thead th {\n",
       "        text-align: right;\n",
       "    }\n",
       "</style>\n",
       "<table border=\"1\" class=\"dataframe\">\n",
       "  <thead>\n",
       "    <tr style=\"text-align: right;\">\n",
       "      <th></th>\n",
       "      <th>feature</th>\n",
       "      <th>importance</th>\n",
       "      <th>pct_importance</th>\n",
       "    </tr>\n",
       "  </thead>\n",
       "  <tbody>\n",
       "    <tr>\n",
       "      <th>0</th>\n",
       "      <td>Skewness</td>\n",
       "      <td>1.493359</td>\n",
       "      <td>0.357049</td>\n",
       "    </tr>\n",
       "    <tr>\n",
       "      <th>1</th>\n",
       "      <td>Strength</td>\n",
       "      <td>1.316322</td>\n",
       "      <td>0.314721</td>\n",
       "    </tr>\n",
       "    <tr>\n",
       "      <th>2</th>\n",
       "      <td>SurfaceArea</td>\n",
       "      <td>1.315219</td>\n",
       "      <td>0.314457</td>\n",
       "    </tr>\n",
       "    <tr>\n",
       "      <th>3</th>\n",
       "      <td>Flatness</td>\n",
       "      <td>0.057603</td>\n",
       "      <td>0.013772</td>\n",
       "    </tr>\n",
       "    <tr>\n",
       "      <th>4</th>\n",
       "      <td>Busyness</td>\n",
       "      <td>-0.179464</td>\n",
       "      <td>0.000000</td>\n",
       "    </tr>\n",
       "    <tr>\n",
       "      <th>5</th>\n",
       "      <td>Variance</td>\n",
       "      <td>-0.464733</td>\n",
       "      <td>0.000000</td>\n",
       "    </tr>\n",
       "    <tr>\n",
       "      <th>6</th>\n",
       "      <td>Kurtosis</td>\n",
       "      <td>-0.966410</td>\n",
       "      <td>0.000000</td>\n",
       "    </tr>\n",
       "    <tr>\n",
       "      <th>7</th>\n",
       "      <td>Complexity</td>\n",
       "      <td>-2.397426</td>\n",
       "      <td>0.000000</td>\n",
       "    </tr>\n",
       "  </tbody>\n",
       "</table>\n",
       "</div>"
      ],
      "text/plain": [
       "       feature  importance  pct_importance\n",
       "0     Skewness    1.493359        0.357049\n",
       "1     Strength    1.316322        0.314721\n",
       "2  SurfaceArea    1.315219        0.314457\n",
       "3     Flatness    0.057603        0.013772\n",
       "4     Busyness   -0.179464        0.000000\n",
       "5     Variance   -0.464733        0.000000\n",
       "6     Kurtosis   -0.966410        0.000000\n",
       "7   Complexity   -2.397426        0.000000"
      ]
     },
     "execution_count": 69,
     "metadata": {},
     "output_type": "execute_result"
    }
   ],
   "source": [
    "num_tree=(8, 10, 12)\n",
    "max_depth=(5, 6, 8)\n",
    "min_node=(12, 15, 18)\n",
    "\n",
    "\n",
    "liv_num_tree_best, liv_max_depth_best, liv_min_node_best, \\\n",
    "    liv_avg_train_results, liv_avg_valid_results, liv_best_overall_results, liv_best_fold_rsf \\\n",
    "        = gridsearch_survival_model(X_liver, t_liver, e_liver, num_tree, max_depth, min_node)\n",
    "\n",
    "print(\"Best valid c-index:\", liv_best_overall_results['valid_CI'])\n",
    "print(\"Best valid c-statistic\", liv_best_overall_results['valid_UnoC'])\n",
    "print(\"Best num_tree val:\",liv_num_tree_best)\n",
    "print(\"Best max_depth val:\", liv_max_depth_best)\n",
    "print(\"Best min_node val:\",liv_min_node_best)\n",
    "\n",
    "liver_h_c_ind, liver_u_c_stat, liver_ibs, liver_riskpreds = evaluate_forest(liv_best_fold_rsf, XT_liver, tT_liver, eT_liver)\n",
    "\n",
    "print(\"Training: \")\n",
    "print(\"Harrel's C-index: \", liv_best_overall_results['train_CI'])\n",
    "print(\"Uno C-statistic: \", liv_best_overall_results['train_UnoC'])\n",
    "print(\"IBS: \", liv_best_overall_results['train_IBS'])\n",
    "print()\n",
    "\n",
    "print(\"Validation: \")\n",
    "print(\"Harrel's C-index: \", liv_best_overall_results['valid_CI'])\n",
    "print(\"Uno C-statistic: \", liv_best_overall_results['valid_UnoC'])\n",
    "print(\"IBS: \", liv_best_overall_results['valid_IBS'])\n",
    "\n",
    "print()\n",
    "print(\"Testing: \")\n",
    "print(\"Harrel's C-index: \", liver_h_c_ind)\n",
    "print(\"Uno C-statistic: \", liver_u_c_stat)\n",
    "print(\"IBS: \", liver_ibs)\n",
    "\n",
    "liverhcc_h_c_ind, liverhcc_u_c_stat, liverhcc_ibs, liverhcc_riskpreds = evaluate_forest(liv_best_fold_rsf, HCC_Xliver, HCC_tliver, HCC_eliver)\n",
    "livericc_h_c_ind, livericc_u_c_stat, livericc_ibs, livericc_riskpreds = evaluate_forest(liv_best_fold_rsf, ICC_Xliver, ICC_tliver, ICC_eliver)\n",
    "livermcrc_h_c_ind, livermcrc_u_c_stat, livermcrc_ibs, livermcrc_riskpreds = evaluate_forest(liv_best_fold_rsf, MCRC_Xliver, MCRC_tliver, MCRC_eliver)\n",
    "\n",
    "print()\n",
    "print(\"HCC Uno C:\", liverhcc_u_c_stat)\n",
    "print(\"ICC Uno C:\", livericc_u_c_stat)\n",
    "print(\"MCRC Uno C:\", livermcrc_u_c_stat)\n",
    "\n",
    "liv_var_imps = liv_best_fold_rsf.variable_importance_table\n",
    "liv_var_imps"
   ]
  },
  {
   "cell_type": "code",
   "execution_count": 39,
   "metadata": {},
   "outputs": [
    {
     "data": {
      "image/png": "[encoded data removed]",
      "text/plain": [
       "<Figure size 1440x720 with 2 Axes>"
      ]
     },
     "metadata": {
      "needs_background": "light"
     },
     "output_type": "display_data"
    }
   ],
   "source": [
    "correlation_matrix(X_liver, figure_size=(20,10), text_fontsize=10)"
   ]
  },
  {
   "cell_type": "code",
   "execution_count": 40,
   "metadata": {},
   "outputs": [],
   "source": [
    "test_liver_predictions = test_liver_data.loc[:, ['ScoutID', \"HDFS_Time\", \"HDFS_Code\", \"Cancer_Type\"]]\n",
    "test_liver_predictions['Prediction'] = liver_riskpreds\n",
    "test_liver_predictions.to_excel(os.path.join(data_folder, \"RSF_test_liver_predictions_90_10_050722.xlsx\"), index=False)"
   ]
  },
  {
   "cell_type": "markdown",
   "metadata": {},
   "source": [
    "### Tumor"
   ]
  },
  {
   "cell_type": "code",
   "execution_count": 29,
   "metadata": {},
   "outputs": [],
   "source": [
    "# Data Loading and Setup\n",
    "data_folder = \"/Data/FeatureSelection/HCC_MCRC_ICC_HDFS_90_10/\"\n",
    "\n",
    "train_tumor_data = pd.read_excel(os.path.join(data_folder, \"train_tumor_feats_and_labels.xlsx\"))\n",
    "test_tumor_data = pd.read_excel(os.path.join(data_folder, \"test_tumor_feats_and_labels.xlsx\"))\n",
    "\n",
    "features_to_drop = []\n",
    "# features_to_drop = ['SurfaceVolumeRatio', 'Maximum2DDiameterSlice', 'MajorAxisLength', 'Busyness', 'VoxelVolume',\\\n",
    "                    # '90Percentile', 'Median', 'Energy', 'RootMeanSquared']\n",
    "\n",
    "X_tumor = train_tumor_data.drop(labels=[\"ScoutID\", \"HDFS_Time\", \"HDFS_Code\", \"Cancer_Type\"], axis=1)\n",
    "X_tumor = X_tumor.drop(labels=features_to_drop, axis=1)\n",
    "t_tumor = train_tumor_data[\"HDFS_Time\"]\n",
    "e_tumor = train_tumor_data[\"HDFS_Code\"]\n",
    "\n",
    "XT_tumor = test_tumor_data.drop(labels=[\"ScoutID\", \"HDFS_Time\", \"HDFS_Code\", \"Cancer_Type\"], axis=1)\n",
    "XT_tumor = XT_tumor.drop(labels=features_to_drop, axis=1)\n",
    "tT_tumor = test_tumor_data[\"HDFS_Time\"]\n",
    "eT_tumor = test_tumor_data[\"HDFS_Code\"]\n",
    "\n",
    "HCC_tumor = test_tumor_data[test_tumor_data['Cancer_Type']==0]\n",
    "HCC_Xtumor = HCC_tumor.drop(labels=[\"ScoutID\", \"HDFS_Time\", \"HDFS_Code\", \"Cancer_Type\"], axis=1)\n",
    "HCC_ttumor = HCC_tumor[\"HDFS_Time\"]\n",
    "HCC_etumor = HCC_tumor[\"HDFS_Code\"]\n",
    "\n",
    "MCRC_tumor = test_tumor_data[test_tumor_data['Cancer_Type']==1]\n",
    "MCRC_Xtumor = MCRC_tumor.drop(labels=[\"ScoutID\", \"HDFS_Time\", \"HDFS_Code\", \"Cancer_Type\"], axis=1)\n",
    "MCRC_ttumor = MCRC_tumor[\"HDFS_Time\"]\n",
    "MCRC_etumor = MCRC_tumor[\"HDFS_Code\"]\n",
    "\n",
    "ICC_tumor = test_tumor_data[test_tumor_data['Cancer_Type']==2]\n",
    "ICC_Xtumor = ICC_tumor.drop(labels=[\"ScoutID\", \"HDFS_Time\", \"HDFS_Code\", \"Cancer_Type\"], axis=1)\n",
    "ICC_ttumor = ICC_tumor[\"HDFS_Time\"]\n",
    "ICC_etumor = ICC_tumor[\"HDFS_Code\"]"
   ]
  },
  {
   "cell_type": "code",
   "execution_count": 32,
   "metadata": {},
   "outputs": [
    {
     "name": "stderr",
     "output_type": "stream",
     "text": [
      "/opt/conda/lib/python3.8/site-packages/statsmodels/stats/outliers_influence.py:195: RuntimeWarning: divide by zero encountered in double_scalars\n",
      "  vif = 1. / (1. - r_squared_i)\n"
     ]
    },
    {
     "name": "stdout",
     "output_type": "stream",
     "text": [
      "VIF remaining variables:\n",
      "Index(['10Percentile', 'Kurtosis', 'Minimum', 'TotalEnergy', 'Busyness',\n",
      "       'Coarseness', 'Complexity', 'Contrast', 'Strength', 'Flatness',\n",
      "       'Maximum2DDiameterColumn', 'MeshVolume'],\n",
      "      dtype='object')\n",
      "Cox filter remaining variables: \n",
      " Index(['Contrast', 'Flatness', 'Strength', 'Maximum2DDiameterColumn',\n",
      "       '10Percentile', 'Kurtosis', 'Busyness', 'Complexity', 'Minimum',\n",
      "       'MeshVolume', 'TotalEnergy'],\n",
      "      dtype='object')\n"
     ]
    },
    {
     "name": "stderr",
     "output_type": "stream",
     "text": [
      "/opt/conda/lib/python3.8/site-packages/lifelines/utils/__init__.py:1103: ConvergenceWarning: Column(s) ['Coarseness'] have very low variance. This may harm convergence. 1) Are you using formula's? Did you mean to add '-1' to the end. 2) Try dropping this redundant column before fitting if convergence fails.\n",
      "\n",
      "  warnings.warn(dedent(warning_text), ConvergenceWarning)\n"
     ]
    }
   ],
   "source": [
    "# Feature selection\n",
    "tum_vselected_features = calculate_vif(X_tumor, 10)\n",
    "X_tumor = tum_vselected_features\n",
    "\n",
    "X_tumor = cox_feature_select(X_tumor, t_tumor, e_tumor)\n"
   ]
  },
  {
   "cell_type": "code",
   "execution_count": 30,
   "metadata": {},
   "outputs": [
    {
     "data": {
      "text/plain": [
       "Index(['Kurtosis', 'Maximum2DDiameterColumn', 'Strength', 'MeshVolume',\n",
       "       'Contrast', 'Flatness'],\n",
       "      dtype='object')"
      ]
     },
     "execution_count": 30,
     "metadata": {},
     "output_type": "execute_result"
    }
   ],
   "source": [
    "X_tumor = X_tumor.filter(items=['Kurtosis', 'Maximum2DDiameterColumn', 'Strength', 'MeshVolume', 'Contrast', 'Flatness'], axis=1)\n",
    "X_tumor.columns"
   ]
  },
  {
   "cell_type": "code",
   "execution_count": 28,
   "metadata": {},
   "outputs": [],
   "source": [
    "X_tumor = X_tumor.filter(items=['Kurtosis', 'TotalEnergy', 'Maximum2DDiameterColumn', '10Percentile', 'MeshVolume'], axis=1)"
   ]
  },
  {
   "cell_type": "code",
   "execution_count": 32,
   "metadata": {},
   "outputs": [
    {
     "name": "stdout",
     "output_type": "stream",
     "text": [
      "Overall Uno C: 0.53577033823638\n",
      "HCC Uno C: 0.5424118658641445\n",
      "ICC Uno C: 0.5912162162162162\n",
      "MCRC Uno C: 0.5\n"
     ]
    }
   ],
   "source": [
    "avg_train_fold_results, avg_valid_fold_results, tum_best_fold_results, tum_best_fold_rsf = \\\n",
    "                    kfold_train_survival_model(X_tumor, t_tumor, e_tumor, num_trees=5, max_depth=10, min_node_size=10, k=5, seed=16)\n",
    "\n",
    "tumor_h_c_ind, tumor_u_c_stat, tumor_ibs, tumor_riskpreds = evaluate_forest(tum_best_fold_rsf, XT_tumor, tT_tumor, eT_tumor)\n",
    "\n",
    "tumorrhcc_h_c_ind, tumorhcc_u_c_stat, tumorhcc_ibs, tumorhcc_riskpreds = evaluate_forest(tum_best_fold_rsf, HCC_Xtumor, HCC_ttumor, HCC_etumor)\n",
    "tumoricc_h_c_ind, tumoricc_u_c_stat, tumoricc_ibs, tumoricc_riskpreds = evaluate_forest(tum_best_fold_rsf, ICC_Xtumor, ICC_ttumor, ICC_etumor)\n",
    "tumormcrc_h_c_ind, tumormcrc_u_c_stat, tumormcrc_ibs, tumormcrc_riskpreds = evaluate_forest(tum_best_fold_rsf, MCRC_Xtumor, MCRC_ttumor, MCRC_etumor)\n",
    "\n",
    "print(\"Overall Uno C:\", tumor_u_c_stat)\n",
    "print(\"HCC Uno C:\", tumorhcc_u_c_stat)\n",
    "print(\"ICC Uno C:\", tumoricc_u_c_stat)\n",
    "print(\"MCRC Uno C:\", tumormcrc_u_c_stat)"
   ]
  },
  {
   "cell_type": "code",
   "execution_count": 35,
   "metadata": {},
   "outputs": [],
   "source": [
    "df_tumor_confidence = pd.DataFrame(columns=['UnoC'])\n",
    "\n",
    "for x in range(2000):\n",
    "    samp_tumor = test_tumor_data.sample(test_tumor_data.shape[0], replace=True)\n",
    "\n",
    "    X_samptumor = samp_tumor.drop(labels=[\"ScoutID\", \"HDFS_Time\", \"HDFS_Code\", \"Cancer_Type\"], axis=1)\n",
    "    X_samptumor = X_samptumor.filter(items=['Kurtosis', 'Maximum2DDiameterColumn', 'Strength', 'MeshVolume','Contrast', 'Flatness'], axis=1)\n",
    "    t_samptumor = samp_tumor[\"HDFS_Time\"]\n",
    "    e_samptumor = samp_tumor[\"HDFS_Code\"]\n",
    "\n",
    "    _, samptumor_u_c_stat, _, _ = evaluate_forest(tum_best_fold_rsf, X_samptumor, t_samptumor, e_samptumor)\n",
    "    \n",
    "    df_tumor_confidence.loc[x] = samptumor_u_c_stat\n",
    "\n",
    "\n",
    "df_tumor_confidence.to_excel(os.path.join(data_folder, \"RSF_tumor_unoC_confidence_050722.xlsx\"), index=False)"
   ]
  },
  {
   "cell_type": "code",
   "execution_count": 38,
   "metadata": {},
   "outputs": [
    {
     "name": "stdout",
     "output_type": "stream",
     "text": [
      "Best k-fold c-index: 0.34398340248962656\n",
      "Best num_tree val: 5\n",
      "Best max_depth val: 10\n",
      "Best min_node val: 10\n",
      "Training: \n",
      "Harrel's C-index:  0.25808978313017084\n",
      "Uno C-statistic:  0.7416914117596562\n",
      "IBS:  0.1692403772632824\n",
      "\n",
      "Validation: \n",
      "Harrel's C-index:  0.34398340248962656\n",
      "Uno's c-statistic:  0.6968342090795595\n",
      "IBS:  0.19471160314936617\n",
      "\n",
      "Testing: \n",
      "Harrel's C-index:  0.5342935528120714\n",
      "Uno's c-statistic:  0.53577033823638\n",
      "IBS:  0.2481674512960983\n",
      "\n",
      "HCC Uno C: 0.5424118658641445\n",
      "ICC Uno C: 0.5912162162162162\n",
      "MCRC Uno C: 0.5\n"
     ]
    },
    {
     "data": {
      "text/html": [
       "<div>\n",
       "<style scoped>\n",
       "    .dataframe tbody tr th:only-of-type {\n",
       "        vertical-align: middle;\n",
       "    }\n",
       "\n",
       "    .dataframe tbody tr th {\n",
       "        vertical-align: top;\n",
       "    }\n",
       "\n",
       "    .dataframe thead th {\n",
       "        text-align: right;\n",
       "    }\n",
       "</style>\n",
       "<table border=\"1\" class=\"dataframe\">\n",
       "  <thead>\n",
       "    <tr style=\"text-align: right;\">\n",
       "      <th></th>\n",
       "      <th>feature</th>\n",
       "      <th>importance</th>\n",
       "      <th>pct_importance</th>\n",
       "    </tr>\n",
       "  </thead>\n",
       "  <tbody>\n",
       "    <tr>\n",
       "      <th>0</th>\n",
       "      <td>MeshVolume</td>\n",
       "      <td>3.757565</td>\n",
       "      <td>0.348625</td>\n",
       "    </tr>\n",
       "    <tr>\n",
       "      <th>1</th>\n",
       "      <td>Maximum2DDiameterColumn</td>\n",
       "      <td>2.642792</td>\n",
       "      <td>0.245197</td>\n",
       "    </tr>\n",
       "    <tr>\n",
       "      <th>2</th>\n",
       "      <td>Kurtosis</td>\n",
       "      <td>2.073085</td>\n",
       "      <td>0.192340</td>\n",
       "    </tr>\n",
       "    <tr>\n",
       "      <th>3</th>\n",
       "      <td>Contrast</td>\n",
       "      <td>1.107522</td>\n",
       "      <td>0.102755</td>\n",
       "    </tr>\n",
       "    <tr>\n",
       "      <th>4</th>\n",
       "      <td>Flatness</td>\n",
       "      <td>0.902669</td>\n",
       "      <td>0.083749</td>\n",
       "    </tr>\n",
       "    <tr>\n",
       "      <th>5</th>\n",
       "      <td>Strength</td>\n",
       "      <td>0.294617</td>\n",
       "      <td>0.027334</td>\n",
       "    </tr>\n",
       "  </tbody>\n",
       "</table>\n",
       "</div>"
      ],
      "text/plain": [
       "                   feature  importance  pct_importance\n",
       "0               MeshVolume    3.757565        0.348625\n",
       "1  Maximum2DDiameterColumn    2.642792        0.245197\n",
       "2                 Kurtosis    2.073085        0.192340\n",
       "3                 Contrast    1.107522        0.102755\n",
       "4                 Flatness    0.902669        0.083749\n",
       "5                 Strength    0.294617        0.027334"
      ]
     },
     "execution_count": 38,
     "metadata": {},
     "output_type": "execute_result"
    }
   ],
   "source": [
    "# num_tree=(5, 10, 15, 20, 25)\n",
    "# max_depth=(2, 4, 6, 8, 10)\n",
    "# min_node=(5, 8, 10, 12, 15)\n",
    "\n",
    "tum_num_tree=(5, 10, 15)\n",
    "tum_max_depth=(5, 8, 10)\n",
    "tum_min_node=(10, 12, 15)\n",
    "# RSF Model creation and evaluation\n",
    "tum_num_tree_best, tum_max_depth_best, tum_min_node_best, \\\n",
    "    tum_avg_train_results, tum_avg_valid_results, tum_best_overall_results, tum_best_fold_rsf \\\n",
    "        = gridsearch_survival_model(X_tumor, t_tumor, e_tumor, tum_num_tree, tum_max_depth, tum_min_node)\n",
    "\n",
    "print(\"Best k-fold c-index:\", tum_best_overall_results['valid_CI'])\n",
    "# print(ghci_best)\n",
    "print(\"Best num_tree val:\",tum_num_tree_best)\n",
    "print(\"Best max_depth val:\", tum_max_depth_best)\n",
    "print(\"Best min_node val:\",tum_min_node_best)\n",
    "\n",
    "# tumor_rsf = train_survival_model(X_tumor, t_tumor, e_tumor, num_trees=tum_num_tree_best, max_depth=tum_max_depth_best, min_node_size=tum_min_node_best, seed=16)\n",
    "# train_tumor_cind, train_tumor_ghci, train_tumor_ibs, train_tumor_riskpred = evaluate_forest(tumor_rsf, X_tumor, t_tumor, e_tumor)\n",
    "tumor_h_c_ind, tumor_u_c_stat, tumor_ibs, tumor_preds = evaluate_forest(tum_best_fold_rsf, XT_tumor, tT_tumor, eT_tumor)\n",
    "\n",
    "print(\"Training: \")\n",
    "print(\"Harrel's C-index: \", tum_best_overall_results['train_CI'])\n",
    "print(\"Uno C-statistic: \", tum_best_overall_results['train_UnoC'])\n",
    "print(\"IBS: \", tum_best_overall_results['train_IBS'])\n",
    "print()\n",
    "\n",
    "print(\"Validation: \")\n",
    "print(\"Harrel's C-index: \", tum_best_overall_results['valid_CI'])\n",
    "print(\"Uno's c-statistic: \", tum_best_overall_results['valid_UnoC'])\n",
    "print(\"IBS: \", tum_best_overall_results['valid_IBS'])\n",
    "\n",
    "print()\n",
    "print(\"Testing: \")\n",
    "print(\"Harrel's C-index: \", tumor_h_c_ind)\n",
    "print(\"Uno's c-statistic: \", tumor_u_c_stat)\n",
    "print(\"IBS: \", tumor_ibs)\n",
    "\n",
    "tumorhcc_h_c_ind, tumorhcc_u_c_stat, tumorhcc_ibs, tumorhcc_riskpreds = evaluate_forest(tum_best_fold_rsf, HCC_Xtumor, HCC_ttumor, HCC_etumor)\n",
    "tumoricc_h_c_ind, tumoricc_u_c_stat, tumoricc_ibs, tumoricc_riskpreds = evaluate_forest(tum_best_fold_rsf, ICC_Xtumor, ICC_ttumor, ICC_etumor)\n",
    "tumormcrc_h_c_ind, tumormcrc_u_c_stat, tumormcrc_ibs, tumormcrc_riskpreds = evaluate_forest(tum_best_fold_rsf, MCRC_Xtumor, MCRC_ttumor, MCRC_etumor)\n",
    "\n",
    "print()\n",
    "print(\"HCC Uno C:\", tumorhcc_u_c_stat)\n",
    "print(\"ICC Uno C:\", tumoricc_u_c_stat)\n",
    "print(\"MCRC Uno C:\", tumormcrc_u_c_stat)\n",
    "\n",
    "tum_var_imps = tum_best_fold_rsf.variable_importance_table\n",
    "tum_var_imps"
   ]
  },
  {
   "cell_type": "code",
   "execution_count": 42,
   "metadata": {},
   "outputs": [],
   "source": [
    "test_tumor_predictions = test_tumor_data.loc[:, ['ScoutID', \"HDFS_Time\", \"HDFS_Code\", \"Cancer_Type\"]]\n",
    "test_tumor_predictions['Prediction'] = tumor_preds\n",
    "test_tumor_predictions.to_excel(os.path.join(data_folder, \"RSF_test_tumor_predictions_90_10_050722.xlsx\"), index=False)"
   ]
  },
  {
   "cell_type": "code",
   "execution_count": 41,
   "metadata": {},
   "outputs": [
    {
     "data": {
      "image/png": "[encoded data removed]",
      "text/plain": [
       "<Figure size 1440x720 with 2 Axes>"
      ]
     },
     "metadata": {
      "needs_background": "light"
     },
     "output_type": "display_data"
    }
   ],
   "source": [
    "correlation_matrix(X_tumor, figure_size=(20,10), text_fontsize=10)"
   ]
  },
  {
   "cell_type": "markdown",
   "metadata": {},
   "source": [
    "### Liver and Tumor"
   ]
  },
  {
   "cell_type": "code",
   "execution_count": 37,
   "metadata": {},
   "outputs": [],
   "source": [
    "data_folder = \"/Data/FeatureSelection/HCC_MCRC_ICC_HDFS_90_10/\"\n",
    "\n",
    "train_livertumor_data = pd.read_excel(os.path.join(data_folder, \"train_liver_tumor_feats_and_labels.xlsx\"))\n",
    "test_livertumor_data = pd.read_excel(os.path.join(data_folder, \"test_liver_tumor_feats_and_labels.xlsx\"))\n",
    "\n",
    "features_to_drop = []\n",
    "# features_to_drop = ['Strength', 'MinorAxisLength', 'VoxelVolume', 'Complexity', 'Uniformity', 'Minimum', \\\n",
    "#                     'Median', 'InterquartileRange', 'Energy']\n",
    "\n",
    "X_livertumor = train_livertumor_data.drop(labels=[\"ScoutID\", \"HDFS_Time\", \"HDFS_Code\", \"Cancer_Type\"], axis=1)\n",
    "X_livertumor = X_livertumor.drop(labels=features_to_drop, axis=1)\n",
    "t_livertumor = train_livertumor_data[\"HDFS_Time\"]\n",
    "e_livertumor = train_livertumor_data[\"HDFS_Code\"]\n",
    "\n",
    "XT_livertumor = test_livertumor_data.drop(labels=[\"ScoutID\", \"HDFS_Time\", \"HDFS_Code\", \"Cancer_Type\"], axis=1)\n",
    "XT_livertumor = XT_livertumor.drop(labels=features_to_drop, axis=1)\n",
    "tT_livertumor = test_livertumor_data[\"HDFS_Time\"]\n",
    "eT_livertumor = test_livertumor_data[\"HDFS_Code\"]\n",
    "\n",
    "HCC_livertumor = test_livertumor_data[test_tumor_data['Cancer_Type']==0]\n",
    "HCC_Xlivertumor = HCC_livertumor.drop(labels=[\"ScoutID\", \"HDFS_Time\", \"HDFS_Code\", \"Cancer_Type\"], axis=1)\n",
    "HCC_tlivertumor = HCC_livertumor[\"HDFS_Time\"]\n",
    "HCC_elivertumor = HCC_livertumor[\"HDFS_Code\"]\n",
    "\n",
    "MCRC_livertumor = test_livertumor_data[test_tumor_data['Cancer_Type']==1]\n",
    "MCRC_Xlivertumor = MCRC_livertumor.drop(labels=[\"ScoutID\", \"HDFS_Time\", \"HDFS_Code\", \"Cancer_Type\"], axis=1)\n",
    "MCRC_tlivertumor = MCRC_livertumor[\"HDFS_Time\"]\n",
    "MCRC_elivertumor = MCRC_livertumor[\"HDFS_Code\"]\n",
    "\n",
    "ICC_livertumor = test_livertumor_data[test_tumor_data['Cancer_Type']==2]\n",
    "ICC_Xlivertumor = ICC_livertumor.drop(labels=[\"ScoutID\", \"HDFS_Time\", \"HDFS_Code\", \"Cancer_Type\"], axis=1)\n",
    "ICC_tlivertumor = ICC_livertumor[\"HDFS_Time\"]\n",
    "ICC_elivertumor = ICC_livertumor[\"HDFS_Code\"]"
   ]
  },
  {
   "cell_type": "code",
   "execution_count": 45,
   "metadata": {},
   "outputs": [
    {
     "name": "stderr",
     "output_type": "stream",
     "text": [
      "/opt/conda/lib/python3.8/site-packages/statsmodels/stats/outliers_influence.py:195: RuntimeWarning: divide by zero encountered in double_scalars\n",
      "  vif = 1. / (1. - r_squared_i)\n"
     ]
    },
    {
     "name": "stdout",
     "output_type": "stream",
     "text": [
      "VIF remaining variables:\n",
      "Index(['Kurtosis', 'Skewness', 'TotalEnergy', 'Variance', 'Busyness',\n",
      "       'Complexity', 'Contrast', 'Strength', 'Flatness', 'SurfaceVolumeRatio'],\n",
      "      dtype='object')\n",
      "Cox filter remaining variables: \n",
      " Index(['SurfaceVolumeRatio', 'Flatness', 'Skewness', 'Strength', 'Kurtosis',\n",
      "       'Busyness', 'Complexity', 'Variance', 'TotalEnergy'],\n",
      "      dtype='object')\n"
     ]
    },
    {
     "name": "stderr",
     "output_type": "stream",
     "text": [
      "/opt/conda/lib/python3.8/site-packages/lifelines/utils/__init__.py:1103: ConvergenceWarning: Column(s) ['Contrast'] have very low variance. This may harm convergence. 1) Are you using formula's? Did you mean to add '-1' to the end. 2) Try dropping this redundant column before fitting if convergence fails.\n",
      "\n",
      "  warnings.warn(dedent(warning_text), ConvergenceWarning)\n"
     ]
    }
   ],
   "source": [
    "livtum_vselected_features = calculate_vif(X_livertumor, 10)\n",
    "X_livertumor = livtum_vselected_features\n",
    "\n",
    "X_livertumor = cox_feature_select(X_livertumor, t_livertumor, e_livertumor)"
   ]
  },
  {
   "cell_type": "code",
   "execution_count": 24,
   "metadata": {},
   "outputs": [],
   "source": [
    "X_livertumor.drop(labels=['Busyness'], inplace=True, axis=1)"
   ]
  },
  {
   "cell_type": "code",
   "execution_count": 38,
   "metadata": {},
   "outputs": [],
   "source": [
    "X_livertumor = X_livertumor.filter(items=['SurfaceVolumeRatio', 'Flatness', 'Skewness', 'Strength', 'Kurtosis', 'Busyness', 'Complexity', 'Variance', 'TotalEnergy'], axis=1)"
   ]
  },
  {
   "cell_type": "code",
   "execution_count": 39,
   "metadata": {},
   "outputs": [
    {
     "name": "stdout",
     "output_type": "stream",
     "text": [
      "Overall Uno C: 0.6543923284602665\n",
      "HCC Uno C: 0.5391444539982804\n",
      "ICC Uno C: 0.7415540540540542\n",
      "MCRC Uno C: 0.5675950759485469\n"
     ]
    }
   ],
   "source": [
    "avg_train_fold_results, avg_valid_fold_results, livtum_best_fold_results, livtum_best_fold_rsf = \\\n",
    "                    kfold_train_survival_model(X_livertumor, t_livertumor, e_livertumor, num_trees=15, max_depth=8, min_node_size=15, k=5, seed=16)\n",
    "\n",
    "livertumor_h_c_ind, livertumor_u_c_stat, livertumor_ibs, livertumor_riskpreds = evaluate_forest(livtum_best_fold_rsf, XT_livertumor, tT_livertumor, eT_livertumor)\n",
    "\n",
    "livertumorrhcc_h_c_ind, livertumorhcc_u_c_stat, livertumorhcc_ibs, livertumorhcc_riskpreds = evaluate_forest(livtum_best_fold_rsf, HCC_Xlivertumor, HCC_tlivertumor, HCC_elivertumor)\n",
    "livertumoricc_h_c_ind, livertumoricc_u_c_stat, livertumoricc_ibs, livertumoricc_riskpreds = evaluate_forest(livtum_best_fold_rsf, ICC_Xlivertumor, ICC_tlivertumor, ICC_elivertumor)\n",
    "livertumormcrc_h_c_ind, livertumormcrc_u_c_stat, livertumormcrc_ibs, livertumormcrc_riskpreds = evaluate_forest(livtum_best_fold_rsf, MCRC_Xlivertumor, MCRC_tlivertumor, MCRC_elivertumor)\n",
    "\n",
    "print(\"Overall Uno C:\", livertumor_u_c_stat)\n",
    "print(\"HCC Uno C:\", livertumorhcc_u_c_stat)\n",
    "print(\"ICC Uno C:\", livertumoricc_u_c_stat)\n",
    "print(\"MCRC Uno C:\", livertumormcrc_u_c_stat)"
   ]
  },
  {
   "cell_type": "code",
   "execution_count": 42,
   "metadata": {},
   "outputs": [],
   "source": [
    "df_livertumor_confidence = pd.DataFrame(columns=['UnoC'])\n",
    "\n",
    "for x in range(2000):\n",
    "    samp_livertumor = test_livertumor_data.sample(test_livertumor_data.shape[0], replace=True)\n",
    "\n",
    "    X_samplivertumor = samp_livertumor.drop(labels=[\"ScoutID\", \"HDFS_Time\", \"HDFS_Code\", \"Cancer_Type\"], axis=1)\n",
    "    X_samplivertumor = X_samplivertumor.filter(items=['SurfaceVolumeRatio', 'Flatness', 'Skewness', 'Strength', 'Kurtosis', 'Busyness', 'Complexity', 'Variance', 'TotalEnergy'], axis=1)\n",
    "    t_samplivertumor = samp_livertumor[\"HDFS_Time\"]\n",
    "    e_samplivertumor = samp_livertumor[\"HDFS_Code\"]\n",
    "\n",
    "    _, samplivertumor_u_c_stat, _, _ = evaluate_forest(livtum_best_fold_rsf, X_samplivertumor, t_samplivertumor, e_samplivertumor)\n",
    "    \n",
    "    df_livertumor_confidence.loc[x] = samplivertumor_u_c_stat\n",
    "\n",
    "\n",
    "df_livertumor_confidence.to_excel(os.path.join(data_folder, \"RSF_livertumor_unoC_confidence_050722.xlsx\"), index=False)"
   ]
  },
  {
   "cell_type": "code",
   "execution_count": 58,
   "metadata": {},
   "outputs": [
    {
     "name": "stdout",
     "output_type": "stream",
     "text": [
      "Best k-fold c-index: 0.42697095435684645\n",
      "Best num_tree val: 15\n",
      "Best max_depth val: 8\n",
      "Best min_node val: 15\n",
      "Training: \n",
      "Harrel's C-index:  0.2781245410486121\n",
      "Uno's C-statistic:  0.7262744590379283\n",
      "IBS:  0.18895445021744584\n",
      "\n",
      "Validation: \n",
      "Harrel's C-index:  0.42697095435684645\n",
      "Uno's C-statistic:  0.6218986688015956\n",
      "IBS:  0.23409473023905697\n",
      "\n",
      "Testing: \n",
      "Harrel's C-index:  0.345679012345679\n",
      "Uno's C-statistic:  0.6543923284602665\n",
      "IBS:  0.22427030299999967\n",
      "\n",
      "HCC Uno C: 0.5391444539982804\n",
      "ICC Uno C: 0.7415540540540542\n",
      "MCRC Uno C: 0.5675950759485469\n"
     ]
    },
    {
     "data": {
      "text/html": [
       "<div>\n",
       "<style scoped>\n",
       "    .dataframe tbody tr th:only-of-type {\n",
       "        vertical-align: middle;\n",
       "    }\n",
       "\n",
       "    .dataframe tbody tr th {\n",
       "        vertical-align: top;\n",
       "    }\n",
       "\n",
       "    .dataframe thead th {\n",
       "        text-align: right;\n",
       "    }\n",
       "</style>\n",
       "<table border=\"1\" class=\"dataframe\">\n",
       "  <thead>\n",
       "    <tr style=\"text-align: right;\">\n",
       "      <th></th>\n",
       "      <th>feature</th>\n",
       "      <th>importance</th>\n",
       "      <th>pct_importance</th>\n",
       "    </tr>\n",
       "  </thead>\n",
       "  <tbody>\n",
       "    <tr>\n",
       "      <th>0</th>\n",
       "      <td>Skewness</td>\n",
       "      <td>2.414416</td>\n",
       "      <td>0.243958</td>\n",
       "    </tr>\n",
       "    <tr>\n",
       "      <th>1</th>\n",
       "      <td>TotalEnergy</td>\n",
       "      <td>1.861830</td>\n",
       "      <td>0.188123</td>\n",
       "    </tr>\n",
       "    <tr>\n",
       "      <th>2</th>\n",
       "      <td>Complexity</td>\n",
       "      <td>1.858667</td>\n",
       "      <td>0.187804</td>\n",
       "    </tr>\n",
       "    <tr>\n",
       "      <th>3</th>\n",
       "      <td>Strength</td>\n",
       "      <td>1.171081</td>\n",
       "      <td>0.118328</td>\n",
       "    </tr>\n",
       "    <tr>\n",
       "      <th>4</th>\n",
       "      <td>Kurtosis</td>\n",
       "      <td>1.098730</td>\n",
       "      <td>0.111018</td>\n",
       "    </tr>\n",
       "    <tr>\n",
       "      <th>5</th>\n",
       "      <td>Variance</td>\n",
       "      <td>0.899658</td>\n",
       "      <td>0.090903</td>\n",
       "    </tr>\n",
       "    <tr>\n",
       "      <th>6</th>\n",
       "      <td>Busyness</td>\n",
       "      <td>0.591369</td>\n",
       "      <td>0.059753</td>\n",
       "    </tr>\n",
       "    <tr>\n",
       "      <th>7</th>\n",
       "      <td>SurfaceVolumeRatio</td>\n",
       "      <td>0.001112</td>\n",
       "      <td>0.000112</td>\n",
       "    </tr>\n",
       "    <tr>\n",
       "      <th>8</th>\n",
       "      <td>Flatness</td>\n",
       "      <td>-1.651548</td>\n",
       "      <td>0.000000</td>\n",
       "    </tr>\n",
       "  </tbody>\n",
       "</table>\n",
       "</div>"
      ],
      "text/plain": [
       "              feature  importance  pct_importance\n",
       "0            Skewness    2.414416        0.243958\n",
       "1         TotalEnergy    1.861830        0.188123\n",
       "2          Complexity    1.858667        0.187804\n",
       "3            Strength    1.171081        0.118328\n",
       "4            Kurtosis    1.098730        0.111018\n",
       "5            Variance    0.899658        0.090903\n",
       "6            Busyness    0.591369        0.059753\n",
       "7  SurfaceVolumeRatio    0.001112        0.000112\n",
       "8            Flatness   -1.651548        0.000000"
      ]
     },
     "execution_count": 58,
     "metadata": {},
     "output_type": "execute_result"
    }
   ],
   "source": [
    "livtum_num_tree=(10, 15, 18)\n",
    "livtum_max_depth=(6, 8, 10)\n",
    "livtum_min_node=(10, 15, 18)\n",
    "\n",
    "\n",
    "livtum_num_tree_best, livtum_max_depth_best, livtum_min_node_best, \\\n",
    "    livtum_avg_train_results, livtum_avg_valid_results, livtum_best_overall_results, livtum_best_fold_rsf \\\n",
    "        = gridsearch_survival_model(X_livertumor, t_livertumor, e_livertumor, livtum_num_tree, livtum_max_depth, livtum_min_node)\n",
    "\n",
    "print(\"Best k-fold c-index:\", livtum_best_overall_results['valid_CI'])\n",
    "# print(ghci_best)\n",
    "print(\"Best num_tree val:\",livtum_num_tree_best)\n",
    "print(\"Best max_depth val:\",livtum_max_depth_best)\n",
    "print(\"Best min_node val:\",livtum_min_node_best)\n",
    "\n",
    "# livertumor_rsf = train_survival_model(X_livertumor, t_livertumor, e_livertumor, num_trees=livtum_num_tree_best, max_depth=livtum_max_depth_best, min_node_size=livtum_min_node_best, seed=16)\n",
    "\n",
    "# train_livertumor_cind, train_livertumor_ghci, train_livertumor_ibs, train_livertumor_riskpred = evaluate_forest(livertumor_rsf, X_livertumor, t_livertumor, e_livertumor)\n",
    "\n",
    "livertumor_h_c_ind, livertumor_u_c_stat, livertumor_ibs, livertumor_riskpreds = evaluate_forest(livtum_best_fold_rsf, XT_livertumor, tT_livertumor, eT_livertumor)\n",
    "\n",
    "print(\"Training: \")\n",
    "print(\"Harrel's C-index: \", livtum_best_overall_results['train_CI'])\n",
    "print(\"Uno's C-statistic: \", livtum_best_overall_results['train_UnoC'])\n",
    "print(\"IBS: \", livtum_best_overall_results['train_IBS'])\n",
    "print()\n",
    "\n",
    "print(\"Validation: \")\n",
    "print(\"Harrel's C-index: \", livtum_best_overall_results['valid_CI'])\n",
    "print(\"Uno's C-statistic: \", livtum_best_overall_results['valid_UnoC'])\n",
    "print(\"IBS: \", livtum_best_overall_results['valid_IBS'])\n",
    "\n",
    "print()\n",
    "print(\"Testing: \")\n",
    "print(\"Harrel's C-index: \",livertumor_h_c_ind)\n",
    "print(\"Uno's C-statistic: \",livertumor_u_c_stat)\n",
    "print(\"IBS: \",livertumor_ibs)\n",
    "\n",
    "livertumorhcc_h_c_ind, livertumorhcc_u_c_stat, livertumorhcc_ibs, livertumorhcc_riskpreds = evaluate_forest(livtum_best_fold_rsf, HCC_Xlivertumor, HCC_tlivertumor, HCC_elivertumor)\n",
    "livertumoricc_h_c_ind, livertumoricc_u_c_stat, livertumoricc_ibs, livertumoricc_riskpreds = evaluate_forest(livtum_best_fold_rsf, ICC_Xlivertumor, ICC_tlivertumor, ICC_elivertumor)\n",
    "livertumormcrc_h_c_ind, livertumormcrc_u_c_stat, livertumormcrc_ibs, livertumormcrc_riskpreds = evaluate_forest(livtum_best_fold_rsf, MCRC_Xlivertumor, MCRC_tlivertumor, MCRC_elivertumor)\n",
    "\n",
    "print()\n",
    "print(\"HCC Uno C:\", livertumorhcc_u_c_stat)\n",
    "print(\"ICC Uno C:\", livertumoricc_u_c_stat)\n",
    "print(\"MCRC Uno C:\", livertumormcrc_u_c_stat)\n",
    "\n",
    "var_imps = livtum_best_fold_rsf.variable_importance_table\n",
    "var_imps"
   ]
  },
  {
   "cell_type": "code",
   "execution_count": 59,
   "metadata": {},
   "outputs": [
    {
     "data": {
      "image/png": "[encoded data removed]",
      "text/plain": [
       "<Figure size 1440x720 with 2 Axes>"
      ]
     },
     "metadata": {
      "needs_background": "light"
     },
     "output_type": "display_data"
    }
   ],
   "source": [
    "correlation_matrix(X_livertumor, figure_size=(20,10), text_fontsize=10)"
   ]
  },
  {
   "cell_type": "code",
   "execution_count": 60,
   "metadata": {},
   "outputs": [],
   "source": [
    "test_livertumor_predictions = test_livertumor_data.loc[:, ['ScoutID', \"HDFS_Time\", \"HDFS_Code\", \"Cancer_Type\"]]\n",
    "test_livertumor_predictions['Prediction'] = livertumor_riskpreds\n",
    "test_livertumor_predictions.to_excel(os.path.join(data_folder, \"RSF_test_liver_tumor_predictions_80_20_050722.xlsx\"), index=False)"
   ]
  },
  {
   "cell_type": "markdown",
   "metadata": {},
   "source": [
    "# Other Code"
   ]
  },
  {
   "cell_type": "code",
   "execution_count": null,
   "metadata": {},
   "outputs": [],
   "source": [
    "# correlation_matrix(X_liver, figure_size=(30,15), text_fontsize=10)"
   ]
  },
  {
   "cell_type": "code",
   "execution_count": null,
   "metadata": {},
   "outputs": [],
   "source": [
    "print(\"Best valid c-index:\", liv_best_overall_results['valid_CI'])\n",
    "print(\"Best valid c-statistic\", liv_best_overall_results['valid_UnoC'])\n",
    "print(\"Best num_tree val:\",liv_num_tree_best)\n",
    "print(\"Best max_depth val:\", liv_max_depth_best)\n",
    "print(\"Best min_node val:\",liv_min_node_best)\n",
    "\n",
    "liver_h_c_ind, liver_u_c_stat, liver_ibs, liver_riskpreds = evaluate_forest(liv_best_fold_rsf, XT_liver, tT_liver, eT_liver)\n",
    "\n",
    "print(\"Training: \")\n",
    "print(\"Harrel's C-index: \", liv_best_overall_results['train_CI'])\n",
    "print(\"Uno C-statistic: \", liv_best_overall_results['train_UnoC'])\n",
    "print(\"IBS: \", liv_best_overall_results['train_IBS'])\n",
    "print()\n",
    "\n",
    "print(\"Validation: \")\n",
    "print(\"Harrel's C-index: \", liv_best_overall_results['valid_CI'])\n",
    "print(\"Uno C-statistic: \", liv_best_overall_results['valid_UnoC'])\n",
    "print(\"IBS: \", liv_best_overall_results['valid_IBS'])\n",
    "\n",
    "print()\n",
    "print(\"Testing: \")\n",
    "print(\"Harrel's C-index: \", liver_h_c_ind)\n",
    "print(\"Uno C-statistic: \", liver_u_c_stat)\n",
    "print(\"IBS: \", liver_ibs)\n",
    "\n",
    "liv_var_imps = liv_best_fold_rsf.variable_importance_table\n",
    "liv_var_imps"
   ]
  }
 ],
 "metadata": {
  "kernelspec": {
   "display_name": "Python 3.8.5 ('deepicc')",
   "language": "python",
   "name": "python3"
  },
  "language_info": {
   "codemirror_mode": {
    "name": "ipython",
    "version": 3
   },
   "file_extension": ".py",
   "mimetype": "text/x-python",
   "name": "python",
   "nbconvert_exporter": "python",
   "pygments_lexer": "ipython3",
   "version": "3.8.5"
  },
  "orig_nbformat": 4,
  "vscode": {
   "interpreter": {
    "hash": "231c10b5755f24f797eb0c3c8e63bc4e4867f670e74296d317db1a43eb37d021"
   }
  }
 },
 "nbformat": 4,
 "nbformat_minor": 2
}
