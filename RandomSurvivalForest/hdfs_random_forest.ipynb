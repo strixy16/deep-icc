{
 "cells": [
  {
   "cell_type": "code",
   "execution_count": 1,
   "metadata": {},
   "outputs": [
    {
     "ename": "ModuleNotFoundError",
     "evalue": "No module named 'rpy2'",
     "output_type": "error",
     "traceback": [
      "\u001b[0;31m---------------------------------------------------------------------------\u001b[0m",
      "\u001b[0;31mModuleNotFoundError\u001b[0m                       Traceback (most recent call last)",
      "\u001b[0;32m<ipython-input-1-e26b79b676cd>\u001b[0m in \u001b[0;36m<module>\u001b[0;34m\u001b[0m\n\u001b[1;32m      3\u001b[0m \u001b[0;32mimport\u001b[0m \u001b[0mpandas\u001b[0m \u001b[0;32mas\u001b[0m \u001b[0mpd\u001b[0m\u001b[0;34m\u001b[0m\u001b[0;34m\u001b[0m\u001b[0m\n\u001b[1;32m      4\u001b[0m \u001b[0;32mimport\u001b[0m \u001b[0mpysurvival\u001b[0m\u001b[0;34m\u001b[0m\u001b[0;34m\u001b[0m\u001b[0m\n\u001b[0;32m----> 5\u001b[0;31m \u001b[0;32mimport\u001b[0m \u001b[0mrpy2\u001b[0m\u001b[0;34m.\u001b[0m\u001b[0mrobjects\u001b[0m \u001b[0;32mas\u001b[0m \u001b[0mrobjects\u001b[0m\u001b[0;34m\u001b[0m\u001b[0;34m\u001b[0m\u001b[0m\n\u001b[0m\u001b[1;32m      6\u001b[0m \u001b[0;32mimport\u001b[0m \u001b[0mrpy2\u001b[0m\u001b[0;34m.\u001b[0m\u001b[0mrobjects\u001b[0m\u001b[0;34m.\u001b[0m\u001b[0mpackags\u001b[0m \u001b[0;32mas\u001b[0m \u001b[0mrpackages\u001b[0m\u001b[0;34m\u001b[0m\u001b[0;34m\u001b[0m\u001b[0m\n\u001b[1;32m      7\u001b[0m \u001b[0;34m\u001b[0m\u001b[0m\n",
      "\u001b[0;31mModuleNotFoundError\u001b[0m: No module named 'rpy2'"
     ]
    }
   ],
   "source": [
    "import numpy as np\n",
    "import os\n",
    "import pandas as pd\n",
    "import pysurvival\n",
    "# import rpy2.robjects as robjects\n",
    "# import rpy2.robjects.packags as rpackages\n",
    "\n",
    "from pysurvival.utils.display import correlation_matrix\n",
    "from pysurvival.models.survival_forest import RandomSurvivalForestModel\n",
    "from pysurvival.utils.metrics import concordance_index\n",
    "\n",
    "from sklearn.model_selection import StratifiedKFold\n",
    "\n"
   ]
  },
  {
   "cell_type": "code",
   "execution_count": null,
   "metadata": {},
   "outputs": [],
   "source": []
  },
  {
   "cell_type": "markdown",
   "metadata": {},
   "source": []
  },
  {
   "cell_type": "code",
   "execution_count": 3,
   "metadata": {},
   "outputs": [],
   "source": [
    "def train_survival_model(X, t, e, num_trees, max_depth, min_node_size, seed):\n",
    "    \"\"\"\n",
    "    Function to create and run Random Survival Forest with given attributes on data.\n",
    "\n",
    "    Args:\n",
    "        X: array -- input features, rows as samples\n",
    "        t: array -- time labels for X, when event of interest or censoring occurred\n",
    "        e: array -- event labels for X, if event occurred (1=event, 0=censoring)\n",
    "        num_trees: int -- number of trees that will be built in forest model, used in initialization of model\n",
    "        max_depth: int -- maximum number of levels allowed in tree, used in model fit\n",
    "        min_node_size: int -- minimum number of samples required to be at leaf node, used in model fit\n",
    "        seed: int -- random seed used by random number generator in model fit\n",
    "\n",
    "    Returns: \n",
    "        rsf: pysurvival.model.RandomSurvivalForestModel -- model fit to input data\n",
    "    \"\"\"\n",
    "\n",
    "    # Create instance of the model\n",
    "    rsf = RandomSurvivalForestModel(num_trees=num_trees)\n",
    "\n",
    "    # Fit model to data\n",
    "    # Arguments not used from function input are defaults except importance_mode\n",
    "    # TODO: need to find out what importance mode is \n",
    "    rsf.fit(X, t, e, max_features='all', max_depth=max_depth, min_node_size=min_node_size,\n",
    "            num_threads=-1, sample_size_pct=0.63, importance_mode='normalized_permutation',\n",
    "            seed=seed, save_memory=False)\n",
    "\n",
    "\n",
    "    return rsf"
   ]
  },
  {
   "cell_type": "code",
   "execution_count": null,
   "metadata": {},
   "outputs": [],
   "source": [
    "def gridsearch(X, t, e):\n",
    "    \"\"\"\n",
    "    Function to run a gridsearch on various Random Survival Forest hyperparameters\n",
    "\n",
    "    Args:\n",
    "        X: array -- input features, rows as samples\n",
    "        t: array -- time labels for X, when event of interest or censoring occurred\n",
    "        e: array -- event labels for X, if event occurred (1=event, 0=censoring)\n",
    "    \"\"\"\n",
    "\n",
    "    \n",
    "\n",
    "    return None"
   ]
  },
  {
   "cell_type": "markdown",
   "metadata": {},
   "source": [
    "# Main Script"
   ]
  },
  {
   "cell_type": "code",
   "execution_count": 16,
   "metadata": {},
   "outputs": [],
   "source": [
    "data_folder = \"/Users/katyscott/Desktop/HDFS_Project/Data/FeatureSelection/\"\n",
    "\n",
    "train_liver_data = pd.read_excel(os.path.join(data_folder, \"train_liver_feats_and_labels.xlsx\"))\n",
    "test_liver_data = pd.read_excel(os.path.join(data_folder, \"test_liver_feats_and_labels.xlsx\"))\n",
    "\n",
    "X_liver = train_liver_data.drop(labels=[\"ScoutID\", \"HDFS_Time\", \"HDFS_Code\", \"Cancer_Type\"], axis=1)\n",
    "t_liver = train_liver_data[\"HDFS_Time\"]\n",
    "e_liver = train_liver_data[\"HDFS_Code\"]\n",
    "\n",
    "XT_liver = test_liver_data.drop(labels=[\"ScoutID\", \"HDFS_Time\", \"HDFS_Code\", \"Cancer_Type\"], axis=1)\n",
    "tT_liver = test_liver_data[\"HDFS_Time\"]\n",
    "eT_liver = test_liver_data[\"HDFS_Code\"]\n",
    "\n",
    "liver_rsf = train_survival_model(X_liver, t_liver, e_liver, 100, 10, 10, seed=16)\n",
    "risk = liver_rsf.predict_risk(XT_liver).tolist()\n",
    "c_ind = concordance_index(liver_rsf, XT_liver, tT_liver, eT_liver)"
   ]
  },
  {
   "cell_type": "code",
   "execution_count": null,
   "metadata": {},
   "outputs": [],
   "source": []
  },
  {
   "cell_type": "code",
   "execution_count": 17,
   "metadata": {},
   "outputs": [
    {
     "data": {
      "text/plain": [
       "0.5671744712675267"
      ]
     },
     "execution_count": 17,
     "metadata": {},
     "output_type": "execute_result"
    }
   ],
   "source": []
  },
  {
   "cell_type": "markdown",
   "metadata": {},
   "source": [
    "# Other Code"
   ]
  },
  {
   "cell_type": "code",
   "execution_count": null,
   "metadata": {},
   "outputs": [],
   "source": [
    "# correlation_matrix(X_liver, figure_size=(30,15), text_fontsize=10)"
   ]
  },
  {
   "cell_type": "code",
   "execution_count": null,
   "metadata": {},
   "outputs": [],
   "source": []
  }
 ],
 "metadata": {
  "interpreter": {
   "hash": "231c10b5755f24f797eb0c3c8e63bc4e4867f670e74296d317db1a43eb37d021"
  },
  "kernelspec": {
   "display_name": "Python 3.8.5 ('deepicc')",
   "language": "python",
   "name": "python3"
  },
  "language_info": {
   "codemirror_mode": {
    "name": "ipython",
    "version": 3
   },
   "file_extension": ".py",
   "mimetype": "text/x-python",
   "name": "python",
   "nbconvert_exporter": "python",
   "pygments_lexer": "ipython3",
   "version": "3.8.5"
  },
  "orig_nbformat": 4
 },
 "nbformat": 4,
 "nbformat_minor": 2
}
