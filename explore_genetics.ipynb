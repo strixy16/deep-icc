{
 "cells": [
  {
   "cell_type": "code",
   "execution_count": 29,
   "id": "c360fde3-e7ee-48df-b300-67579f41464d",
   "metadata": {},
   "outputs": [],
   "source": [
    "from lifelines import KaplanMeierFitter, CoxPHFitter\n",
    "import matplotlib.pyplot as plt\n",
    "import numpy as np\n",
    "import pandas as pd"
   ]
  },
  {
   "cell_type": "code",
   "execution_count": 17,
   "id": "ff7eee16-6f96-4e58-8222-75fe190384ec",
   "metadata": {},
   "outputs": [],
   "source": [
    "genomic_file = \"../MSK_Genomic_Data.csv\"\n",
    "\n",
    "gene_features = pd.read_csv(genomic_file)\n",
    "#Patient IDs have a space at the end of the name\n",
    "gene_features['ID'] = gene_features['ID'].str.strip()"
   ]
  },
  {
   "cell_type": "code",
   "execution_count": 33,
   "id": "5f34951d-0113-4ebe-99db-9dd593b14400",
   "metadata": {},
   "outputs": [],
   "source": [
    "labels_file = \"../RFS_Scout.xlsx\"\n",
    "\n",
    "rfs_labels = pd.read_excel(labels_file)"
   ]
  },
  {
   "cell_type": "code",
   "execution_count": 34,
   "id": "7a3833a2-e62b-4516-8625-6001967e81f0",
   "metadata": {},
   "outputs": [
    {
     "data": {
      "text/plain": [
       "<bound method NDFrame.head of                      ID  RFS_Code        RFS\n",
       "0       Erasmus_ICC-003         0  46.457124\n",
       "1       Erasmus_ICC-005         1   7.425255\n",
       "2       Erasmus_ICC-006         1  31.278064\n",
       "3       Erasmus_ICC-011         1  22.735735\n",
       "4       Erasmus_ICC-015         1  21.355821\n",
       "..                  ...       ...        ...\n",
       "180  ICC_Radiogen_Add59         1   8.000000\n",
       "181  ICC_Radiogen_Add60         0   5.000000\n",
       "182  ICC_Radiogen_Add61         0   4.000000\n",
       "183  ICC_Radiogen_Add62         0   3.000000\n",
       "184  ICC_Radiogen_Add63         1  14.000000\n",
       "\n",
       "[185 rows x 3 columns]>"
      ]
     },
     "execution_count": 34,
     "metadata": {},
     "output_type": "execute_result"
    }
   ],
   "source": [
    "rfs_labels.head"
   ]
  },
  {
   "cell_type": "code",
   "execution_count": 35,
   "id": "c9f8a8d3-ac07-4131-b355-5aaacc635346",
   "metadata": {},
   "outputs": [],
   "source": [
    "# Getting intersection of patients with gene features and RFS labels all in one dataframe\n",
    "genes_and_labels = pd.merge(gene_features, rfs_labels, how='inner', on=['ID', 'ID'])"
   ]
  },
  {
   "cell_type": "code",
   "execution_count": 36,
   "id": "c98fbf79-29fa-4753-b709-49b392fac217",
   "metadata": {},
   "outputs": [
    {
     "data": {
      "text/plain": [
       "0      0\n",
       "1      1\n",
       "2      1\n",
       "3      1\n",
       "4      0\n",
       "      ..\n",
       "106    0\n",
       "107    1\n",
       "108    0\n",
       "109    0\n",
       "110    0\n",
       "Name: RFS_Code, Length: 111, dtype: int64"
      ]
     },
     "execution_count": 36,
     "metadata": {},
     "output_type": "execute_result"
    }
   ],
   "source": [
    "genes_and_labels.RFS_Code"
   ]
  },
  {
   "cell_type": "code",
   "execution_count": null,
   "id": "584ef89b-d397-4675-b1cb-d4b018ecf609",
   "metadata": {},
   "outputs": [],
   "source": [
    "from lifelines import CoxPHFitter\n",
    "from lifelines.datasets import load_rossi\n",
    "\n",
    "rossi = load_rossi()\n",
    "cph = CoxPHFitter()\n",
    "cph.fit(rossi, duration_col='week', event_col='arrest')\n",
    "\n",
    "cph.print_summary()"
   ]
  },
  {
   "cell_type": "code",
   "execution_count": 49,
   "id": "9273a4ce-cd06-470c-8548-631328299ea0",
   "metadata": {},
   "outputs": [
    {
     "data": {
      "text/plain": [
       "[<matplotlib.lines.Line2D at 0x7fa8e9c3d340>]"
      ]
     },
     "execution_count": 49,
     "metadata": {},
     "output_type": "execute_result"
    },
    {
     "data": {
      "image/png": "[encoded data removed]",
      "text/plain": [
       "<Figure size 432x288 with 1 Axes>"
      ]
     },
     "metadata": {
      "needs_background": "light"
     },
     "output_type": "display_data"
    }
   ],
   "source": [
    "# x-axis is RFS\n",
    "# y-axis is epigenetic_pathway binary indicator\n",
    "\n",
    "plt.plot(genes_and_labels.RFS, genes_and_labels.ARID1A, 'o', color='black')"
   ]
  },
  {
   "cell_type": "code",
   "execution_count": 50,
   "id": "7457d312-4f8b-4b49-8487-6e125084182f",
   "metadata": {},
   "outputs": [
    {
     "data": {
      "text/plain": [
       "Text(0.5, 1.0, 'Recurrence Free Survival for Mutations')"
      ]
     },
     "execution_count": 50,
     "metadata": {},
     "output_type": "execute_result"
    },
    {
     "data": {
      "image/png": "[encoded data removed]",
      "text/plain": [
       "<Figure size 432x288 with 1 Axes>"
      ]
     },
     "metadata": {
      "needs_background": "light"
     },
     "output_type": "display_data"
    }
   ],
   "source": [
    "gene = 'ARID1A'\n",
    "\n",
    "epi_path = genes_and_labels.loc[genes_and_labels[gene] == 1]\n",
    "non_epi = genes_and_labels.loc[genes_and_labels[gene] == 0]\n",
    "\n",
    "kmf = KaplanMeierFitter()\n",
    "ax = plt.subplot(111)\n",
    "\n",
    "kmf.fit(epi_path.RFS, epi_path.RFS_Code, label=gene)\n",
    "kmf.plot_survival_function(ax=ax)\n",
    "\n",
    "kmf.fit(non_epi.RFS, non_epi.RFS_Code, label=\"No mutation\")\n",
    "kmf.plot_survival_function(ax=ax)\n",
    "\n",
    "plt.title(\"Recurrence Free Survival for Mutations\")\n"
   ]
  },
  {
   "cell_type": "code",
   "execution_count": null,
   "id": "3d540157-b4ab-4ef1-b811-fd604d6dc1f9",
   "metadata": {},
   "outputs": [],
   "source": []
  }
 ],
 "metadata": {
  "kernelspec": {
   "display_name": "Python 3",
   "language": "python",
   "name": "python3"
  },
  "language_info": {
   "codemirror_mode": {
    "name": "ipython",
    "version": 3
   },
   "file_extension": ".py",
   "mimetype": "text/x-python",
   "name": "python",
   "nbconvert_exporter": "python",
   "pygments_lexer": "ipython3",
   "version": "3.9.2"
  }
 },
 "nbformat": 4,
 "nbformat_minor": 5
}
