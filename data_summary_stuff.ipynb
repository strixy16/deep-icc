{
 "cells": [
  {
   "cell_type": "code",
   "execution_count": 8,
   "metadata": {},
   "outputs": [],
   "source": [
    "import pandas as pd\n",
    "import numpy as np\n",
    "from lifelines.utils import concordance_index\n",
    "from sksurv.metrics import concordance_index_censored, concordance_index_ipcw\n",
    "\n",
    "import rpy2.robjects as ro\n",
    "import rpy2.robjects.packages as rpackages\n",
    "from rpy2.robjects.conversion import localconverter\n",
    "from rpy2.robjects import pandas2ri"
   ]
  },
  {
   "cell_type": "markdown",
   "metadata": {},
   "source": [
    "## Getting counts of patients/slices in train/valid/test datasets"
   ]
  },
  {
   "cell_type": "code",
   "execution_count": 23,
   "metadata": {},
   "outputs": [],
   "source": [
    "train_info = pd.read_csv('/Data/train_info_fold1.csv')\n",
    "valid_info = pd.read_csv('/Data/valid_info_fold1.csv')\n",
    "test_info = pd.read_csv('/Data/Labels/HDFS_test_tumors.csv')"
   ]
  },
  {
   "cell_type": "code",
   "execution_count": 24,
   "metadata": {},
   "outputs": [],
   "source": [
    "patient_valid_info = valid_info.loc[valid_info['Slice_Num']==1]\n",
    "# patient_valid_info.reset_index(inplace=True)\n",
    "patient_valid_info.to_csv('/Data/patient_valid_info.csv', index=False)"
   ]
  },
  {
   "cell_type": "code",
   "execution_count": 25,
   "metadata": {},
   "outputs": [],
   "source": [
    "patient_train_info = train_info.loc[train_info['Slice_Num']==1]\n",
    "# patient_train_info.reset_index(inplace=True)\n",
    "patient_train_info.to_csv('/Data/patient_train_info.csv', index=False)"
   ]
  },
  {
   "cell_type": "code",
   "execution_count": 26,
   "metadata": {},
   "outputs": [],
   "source": [
    "patient_test_info = test_info.loc[test_info['Slice_Num']==1]\n",
    "# patient_test_info.reset_index(inplace=True)\n",
    "patient_test_info.to_csv('/Data/patient_test_info.csv', index=False)"
   ]
  },
  {
   "cell_type": "code",
   "execution_count": 27,
   "metadata": {},
   "outputs": [],
   "source": [
    "total_train = pd.read_csv('/Data/Labels/HDFS_train_tumors.csv')\n",
    "patient_total_train = total_train.loc[total_train['Slice_Num']==1]\n",
    "patient_total_train.shape\n",
    "patient_total_train.to_csv('/Data/correct_train_patients.csv', index=False)"
   ]
  },
  {
   "cell_type": "markdown",
   "metadata": {},
   "source": [
    "## Calculating c-index for each cancer types predictions"
   ]
  },
  {
   "cell_type": "code",
   "execution_count": null,
   "metadata": {},
   "outputs": [],
   "source": [
    "# Only need to run this once\n",
    "utils = rpackages.importr('utils')\n",
    "utils.chooseCRANmirror(ind=1)\n",
    "utils.install_packages(\"survAUC\")\n",
    "utils.install_packages(\"survival\")"
   ]
  },
  {
   "cell_type": "markdown",
   "metadata": {},
   "source": [
    "### Uno's C statistic function"
   ]
  },
  {
   "cell_type": "code",
   "execution_count": null,
   "metadata": {},
   "outputs": [],
   "source": [
    "def uno_c_statistic(train_time, train_event, test_time, test_event, risk_preds):\n",
    "    survAUC = rpackages.importr('survAUC')\n",
    "    survival = rpackages.importr('survival')\n",
    "\n",
    "    if not isinstance(train_time, np.ndarray):\n",
    "        raise TypeError(\"Train times must be a numpy array\")\n",
    "    if not isinstance(train_event, np.ndarray):\n",
    "        raise TypeError(\"Train events must be a numpy array\")\n",
    "    if not isinstance(test_time, np.ndarray):\n",
    "        raise TypeError(\"Test times must be a numpy array\")\n",
    "    if not isinstance(test_event, np.ndarray):\n",
    "        raise TypeError(\"Train events must be a numpy array\")\n",
    "    if not isinstance(risk_preds, np.ndarray):\n",
    "        raise TypeError(\"Risk predictions must be a numpy array\")\n",
    "\n",
    "    R_train_time = ro.vectors.FloatVector(train_time)\n",
    "    R_train_event = ro.vectors.IntVector(train_event)\n",
    "\n",
    "    R_test_time = ro.vectors.FloatVector(test_time)\n",
    "    R_test_event = ro.vectors.IntVector(test_event)\n",
    "\n",
    "    R_risk_pred = ro.vectors.FloatVector(risk_preds)\n",
    "\n",
    "    trainSurv_rsp = survival.Surv(R_train_time, R_train_event)\n",
    "    testSurv_rsp = survival.Surv(R_test_time, R_test_event)\n",
    "\n",
    "    cstat = survAUC.UnoC(trainSurv_rsp, testSurv_rsp, R_risk_pred)\n",
    "\n",
    "    return cstat\n",
    "\n",
    "train_cph_time = cph_labels[['HDFS_Time']].to_numpy()\n",
    "train_cph_event = cph_labels[['HDFS_Code']].to_numpy()\n",
    "\n",
    "test_cph_time = cph_preds[['HDFS_Time']].to_numpy()\n",
    "test_cph_event = cph_preds[['HDFS_Code']].to_numpy()\n",
    "\n",
    "all_cph_preds = cph_preds[['Prediction']].to_numpy()\n",
    "\n",
    "uno_c_statistic(train_cph_time, train_cph_event, test_cph_time, test_cph_event, all_cph_preds)"
   ]
  },
  {
   "cell_type": "code",
   "execution_count": 3,
   "metadata": {},
   "outputs": [],
   "source": [
    "# test_preds_0134 = pd.read_csv('/Data/Output/HDFSModel2/Liver/2022_02_22_2020_train/test_predictions.csv')\n",
    "# ICC_preds_0134 = test_preds_0134[test_preds_0134['Slice_File_Name'].str.contains(\"ICC\")]\n",
    "# HCC_preds_0134 = test_preds_0134[test_preds_0134['Slice_File_Name'].str.contains(\"hcc\")]\n",
    "# MCRC_preds_0134 = test_preds_0134[test_preds_0134['Slice_File_Name'].str.contains(\"preop\")]\n",
    "\n",
    "# ICC_preds_0134.to_csv('/Data/ICC_preds_0134.csv', index=False)\n",
    "# HCC_preds_0134.to_csv('/Data/HCC_preds_0134.csv', index=False)\n",
    "# MCRC_preds_0134.to_csv('/Data/MCRC_preds_0134.csv', index=False)"
   ]
  },
  {
   "cell_type": "markdown",
   "metadata": {},
   "source": [
    "### Deep Learning Calculations"
   ]
  },
  {
   "cell_type": "code",
   "execution_count": 11,
   "metadata": {},
   "outputs": [
    {
     "name": "stdout",
     "output_type": "stream",
     "text": [
      "CNN Prediction Scores\n",
      "Total GHCI: 0.6214548079516716\n",
      "HCC GHCI:  0.6574064009284492\n",
      "ICC GHCI:  0.6293049311846381\n",
      "MCRC GHCI:  0.585893117397307\n",
      "\n",
      "Total c-index: 0.6031671814635344\n",
      "HCC C-index: 0.605305323126224\n",
      "ICC C-index: 0.5873654170450123\n",
      "MCRC C-index: 0.657877862019539\n"
     ]
    }
   ],
   "source": [
    "test_preds_0134 = pd.read_csv('/Data/Output/HDFSModel2/Tumor/2022_03_28_1706_train/test_predictions.csv')\n",
    "ICC_preds_0134 = test_preds_0134[test_preds_0134['Slice_File_Name'].str.contains(\"ICC\")]\n",
    "HCC_preds_0134 = test_preds_0134[test_preds_0134['Slice_File_Name'].str.contains(\"hcc\")]\n",
    "MCRC_preds_0134 = test_preds_0134[test_preds_0134['Slice_File_Name'].str.contains(\"preop\")]\n",
    "\n",
    "np_all_preds = np.array(test_preds_0134['Prediction'])\n",
    "np_ICC_preds = np.array(ICC_preds_0134['Prediction'])\n",
    "np_HCC_preds = np.array(HCC_preds_0134['Prediction'])\n",
    "np_MCRC_preds = np.array(MCRC_preds_0134['Prediction'])\n",
    "\n",
    "#all_ghci = gh_c_index(np_all_preds)\n",
    "# ICC_ghci = gh_c_index(np_ICC_preds)\n",
    "# HCC_ghci = gh_c_index(np_HCC_preds)\n",
    "# MCRC_ghci = gh_c_index(np_MCRC_preds)\n",
    "\n",
    "# print(\"CNN Prediction Scores\")\n",
    "# print(\"Total GHCI:\", all_ghci)\n",
    "# print(\"HCC GHCI: \", HCC_ghci)\n",
    "# print(\"ICC GHCI: \", ICC_ghci)\n",
    "# print(\"MCRC GHCI: \", MCRC_ghci)\n",
    "\n",
    "# print(\"All n:\", test_preds_0134.shape)\n",
    "# print(\"HCC n:\", np_HCC_preds.shape)\n",
    "# print(\"MCRC n:\", np_MCRC_preds.shape)\n",
    "# print(\"ICC n:\", np_ICC_preds.shape)\n",
    "\n",
    "ICC_cind = concordance_index(np.array(ICC_preds_0134['Time']), np_ICC_preds, np.array(ICC_preds_0134['Event']))\n",
    "HCC_cind = concordance_index(np.array(HCC_preds_0134['Time']), np_HCC_preds, np.array(HCC_preds_0134['Event']))\n",
    "MCRC_cind = concordance_index(np.array(MCRC_preds_0134['Time']), np_MCRC_preds, np.array(MCRC_preds_0134['Event']))\n",
    "total_cind = concordance_index(np.array(test_preds_0134['Time']), np_all_preds, np.array(test_preds_0134['Event']))\n",
    "\n",
    "print(\"\\nTotal c-index:\", total_cind)\n",
    "print(\"HCC C-index:\", HCC_cind)\n",
    "print(\"ICC C-index:\", ICC_cind)\n",
    "print(\"MCRC C-index:\", MCRC_cind)"
   ]
  },
  {
   "cell_type": "code",
   "execution_count": 10,
   "metadata": {},
   "outputs": [],
   "source": [
    "ICC_preds_0134.to_csv(\"/Data/tumor_ICC_test_predictions.csv\", index=False)\n",
    "HCC_preds_0134.to_csv(\"/Data/tumor_HCC_test_predictions.csv\", index=False)\n",
    "MCRC_preds_0134.to_csv(\"/Data/tumor_MCRC_test_predictions.csv\", index=False)"
   ]
  },
  {
   "cell_type": "markdown",
   "metadata": {},
   "source": [
    "### CPH Calculations"
   ]
  },
  {
   "cell_type": "code",
   "execution_count": 4,
   "metadata": {},
   "outputs": [
    {
     "name": "stdout",
     "output_type": "stream",
     "text": [
      "CPH Predictions\n",
      "\n",
      "HCC C-index: 0.4772727272727273\n",
      "ICC C-index: 0.5876288659793815\n",
      "MCRC C-index: 0.13636363636363635\n",
      "\n",
      "All c-index: 0.5733882030178327\n"
     ]
    }
   ],
   "source": [
    "print(\"CPH Predictions\")\n",
    "cph_preds = pd.read_excel(\"/Data/FeatureSelection/HCC_MCRC_ICC_HDFS_90_10/CPH_test_liver_predictions.xlsx\")\n",
    "\n",
    "HCC_cph_preds = cph_preds[cph_preds['Cancer_Type']==0]\n",
    "MCRC_cph_preds = cph_preds[cph_preds['Cancer_Type']==1]\n",
    "ICC_cph_preds = cph_preds[cph_preds['Cancer_Type']==2]\n",
    "\n",
    "# HCC_ghci = gh_c_index(np.array(HCC_cph_preds['Prediction']))\n",
    "# MCRC_ghci = gh_c_index(np.array(MCRC_cph_preds['Prediction']))\n",
    "# ICC_ghci = gh_c_index(np.array(ICC_cph_preds['Prediction']))\n",
    "\n",
    "# HAVE TO SWITCH THE SIGN ON THE PREDICTIONS FOR CPH MODEL\n",
    "HCC_cind = concordance_index(np.array(HCC_cph_preds['Prediction']), -np.array(HCC_cph_preds['HDFS_Time']), np.array(HCC_cph_preds['HDFS_Code']))\n",
    "MCRC_cind = concordance_index(np.array(MCRC_cph_preds['Prediction']), -np.array(MCRC_cph_preds['HDFS_Time']), np.array(MCRC_cph_preds['HDFS_Code']))\n",
    "ICC_cind = concordance_index(np.array(ICC_cph_preds['Prediction']), -np.array(ICC_cph_preds['HDFS_Time']), np.array(ICC_cph_preds['HDFS_Code']))\n",
    "\n",
    "\n",
    "# print(\"HCC GHCI: \", HCC_ghci)\n",
    "# print(\"ICC GHCI: \", ICC_ghci)\n",
    "# print(\"MCRC GHCI: \", MCRC_ghci)\n",
    "\n",
    "print(\"\\nHCC C-index:\", HCC_cind)\n",
    "print(\"ICC C-index:\", ICC_cind)\n",
    "print(\"MCRC C-index:\", MCRC_cind)\n",
    "\n",
    "\n",
    "all_cind = concordance_index(np.array(cph_preds['HDFS_Time']), -np.array(cph_preds['Prediction']), np.array(cph_preds['HDFS_Code']))\n",
    "print(\"\\nAll c-index:\", all_cind)"
   ]
  },
  {
   "cell_type": "markdown",
   "metadata": {},
   "source": [
    "### RSF Calculations"
   ]
  },
  {
   "cell_type": "code",
   "execution_count": 4,
   "metadata": {},
   "outputs": [
    {
     "name": "stdout",
     "output_type": "stream",
     "text": [
      "RSF Predictions\n",
      "HCC GHCI:  0.8173539707446802\n",
      "ICC GHCI:  0.654411764705878\n",
      "MCRC GHCI:  0.4561403508771875\n",
      "\n",
      "HCC C-index: 0.5\n",
      "ICC C-index: 0.57421875\n",
      "MCRC C-index: 0.5548780487804879\n"
     ]
    }
   ],
   "source": [
    "print(\"RSF Predictions\")\n",
    "rsf_preds = pd.read_excel(\"/Data/FeatureSelection/HCC_MCRC_ICC_HDFS_90_10/RSF_test_tumor_predictions_90_10_041122.xlsx\")\n",
    "\n",
    "HCC_rsf_preds = rsf_preds[rsf_preds['Cancer_Type']==0]\n",
    "MCRC_rsf_preds = rsf_preds[rsf_preds['Cancer_Type']==1]\n",
    "ICC_rsf_preds = rsf_preds[rsf_preds['Cancer_Type']==2]\n",
    "\n",
    "# HCC_ghci = gh_c_index(np.array(HCC_rsf_preds['Prediction']))\n",
    "# MCRC_ghci = gh_c_index(np.array(MCRC_rsf_preds['Prediction']))\n",
    "# ICC_ghci = gh_c_index(np.array(ICC_rsf_preds['Prediction']))\n",
    "\n",
    "HCC_cind = concordance_index(np.array(HCC_rsf_preds['HDFS_Time']), np.array(HCC_rsf_preds['Prediction']), np.array(HCC_rsf_preds['HDFS_Code']))\n",
    "MCRC_cind = concordance_index(np.array(MCRC_rsf_preds['HDFS_Time']), np.array(MCRC_rsf_preds['Prediction']), np.array(MCRC_rsf_preds['HDFS_Code']))\n",
    "ICC_cind = concordance_index(np.array(ICC_rsf_preds['HDFS_Time']), np.array(ICC_rsf_preds['Prediction']), np.array(ICC_rsf_preds['HDFS_Code']))\n",
    "\n",
    "\n",
    "# print(\"HCC GHCI: \", HCC_ghci)\n",
    "# print(\"ICC GHCI: \", ICC_ghci)\n",
    "# print(\"MCRC GHCI: \", MCRC_ghci)\n",
    "\n",
    "print(\"\\nHCC C-index:\", HCC_cind)\n",
    "print(\"ICC C-index:\", ICC_cind)\n",
    "print(\"MCRC C-index:\", MCRC_cind)\n",
    "\n",
    "# all_cind = concordance_index(np.array(rsf_preds['HDFS_Time']), np.array(rsf_preds['Prediction']), np.array(rsf_preds['HDFS_Code']))\n",
    "# print(\"\\nAll c-index:\", all_cind)\n"
   ]
  },
  {
   "cell_type": "code",
   "execution_count": 15,
   "metadata": {},
   "outputs": [
    {
     "name": "stdout",
     "output_type": "stream",
     "text": [
      "0.6844993141289437\n"
     ]
    }
   ],
   "source": [
    "all_cind = concordance_index(np.array(cph_preds['HDFS_Time']), -np.array(cph_preds['Prediction']), np.array(cph_preds['HDFS_Code']))\n",
    "print(all_cind)"
   ]
  },
  {
   "cell_type": "markdown",
   "metadata": {},
   "source": [
    "# Old Code"
   ]
  },
  {
   "cell_type": "code",
   "execution_count": null,
   "metadata": {},
   "outputs": [],
   "source": [
    "ICC_cind = concordance_index(np_ICC_preds, np.array(ICC_preds_0134['Time']), np.array(ICC_preds_0134['Event']))\n",
    "HCC_cind = concordance_index(np_HCC_preds, np.array(HCC_preds_0134['Time']), np.array(HCC_preds_0134['Event']))\n",
    "MCRC_cind = concordance_index(np_MCRC_preds, np.array(MCRC_preds_0134['Time']), np.array(MCRC_preds_0134['Event']))\n",
    "total_cind = concordance_index(np.array(test_preds_0134['Prediction']), np.array(test_preds_0134['Time']), np.array(test_preds_0134['Event']))\n",
    "\n",
    "print(\"Total c-index:\", total_cind)\n",
    "print(\"HCC C-index:\", HCC_cind)\n",
    "print(\"MCRC C-index:\", MCRC_cind)\n",
    "print(\"ICC C-index:\", ICC_cind)"
   ]
  },
  {
   "cell_type": "code",
   "execution_count": null,
   "metadata": {},
   "outputs": [],
   "source": [
    "print(\"All n:\", test_preds_0134.shape)\n",
    "print(\"HCC n:\", np_HCC_preds.shape)\n",
    "print(\"MCRC n:\", np_MCRC_preds.shape)\n",
    "print(\"ICC n:\", np_ICC_preds.shape)"
   ]
  },
  {
   "cell_type": "code",
   "execution_count": null,
   "metadata": {},
   "outputs": [],
   "source": [
    "test_preds_0134.head(50)"
   ]
  },
  {
   "cell_type": "code",
   "execution_count": 58,
   "metadata": {},
   "outputs": [
    {
     "data": {
      "text/html": [
       "\n",
       "        <span>FloatVector with 1 elements.</span>\n",
       "        <table>\n",
       "        <tbody>\n",
       "          <tr>\n",
       "          \n",
       "            <td>\n",
       "            0.579050\n",
       "            </td>\n",
       "          \n",
       "          </tr>\n",
       "        </tbody>\n",
       "        </table>\n",
       "        "
      ],
      "text/plain": [
       "<rpy2.robjects.vectors.FloatVector object at 0x7f0f66d13580> [RTYPES.REALSXP]\n",
       "R classes: ('numeric',)\n",
       "[0.579050]"
      ]
     },
     "execution_count": 58,
     "metadata": {},
     "output_type": "execute_result"
    }
   ],
   "source": []
  }
 ],
 "metadata": {
  "interpreter": {
   "hash": "d4d1e4263499bec80672ea0156c357c1ee493ec2b1c70f0acce89fc37c4a6abe"
  },
  "kernelspec": {
   "display_name": "Python 3.8.12 64-bit ('base': conda)",
   "language": "python",
   "name": "python3"
  },
  "language_info": {
   "codemirror_mode": {
    "name": "ipython",
    "version": 3
   },
   "file_extension": ".py",
   "mimetype": "text/x-python",
   "name": "python",
   "nbconvert_exporter": "python",
   "pygments_lexer": "ipython3",
   "version": "3.8.12"
  },
  "orig_nbformat": 4
 },
 "nbformat": 4,
 "nbformat_minor": 2
}
