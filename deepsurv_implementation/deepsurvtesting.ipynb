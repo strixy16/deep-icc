{
 "cells": [
  {
   "cell_type": "code",
   "execution_count": 6,
   "metadata": {},
   "outputs": [],
   "source": [
    "import argparse\n",
    "import pandas as pd\n",
    "import torch\n",
    "from torch.utils.data import Dataset\n",
    "import torch.nn as nn\n",
    "from pysurvival.models.simulations import SimulationModel"
   ]
  },
  {
   "cell_type": "code",
   "execution_count": 14,
   "metadata": {},
   "outputs": [
    {
     "name": "stderr",
     "output_type": "stream",
     "text": [
      "usage: ipykernel_launcher.py [-h] [--lr LR] [--dropout DROPOUT] [--out OUT]\n",
      "                             [--lib LIB] [-e EPOCHS]\n",
      "                             [--decay-interval DECAY_INTERVAL] [-b BATCH_SIZE]\n",
      "                             [--weightdecay WEIGHTDECAY]\n",
      "                             [--covariates COVARIATES] [--strat STRAT]\n",
      "                             [--development DEVELOPMENT]\n",
      "                             [--activation ACTIVATION]\n",
      "ipykernel_launcher.py: error: unrecognized arguments: -f /Users/katyscott/Library/Jupyter/runtime/kernel-346aed80-9d86-4774-94b1-9591abf08190.json\n"
     ]
    },
    {
     "ename": "SystemExit",
     "evalue": "2",
     "output_type": "error",
     "traceback": [
      "An exception has occurred, use %tb to see the full traceback.\n",
      "\u001b[0;31mSystemExit\u001b[0m\u001b[0;31m:\u001b[0m 2\n"
     ]
    }
   ],
   "source": [
    "parser = argparse.ArgumentParser(description='EPL')\n",
    "parser.add_argument('--lr', default=1e-3, type=float)\n",
    "parser.add_argument('--dropout', default=.3, type=float)\n",
    "parser.add_argument('--out', default=1, type=int)\n",
    "parser.add_argument('--lib', default='', type=str)\n",
    "parser.add_argument('-e', '--epochs', default=2000, type=int)\n",
    "parser.add_argument('--decay-interval', default=400, type=int)\n",
    "parser.add_argument('-b','--batch-size', default=4000, type=int)\n",
    "parser.add_argument('--weightdecay', default=1e-4, type=float)\n",
    "parser.add_argument('--covariates', default=10, type=int)\n",
    "parser.add_argument('--strat', default='none', type=str)\n",
    "parser.add_argument('--development', default=0, type=int)\n",
    "parser.add_argument('--activation', default='SELU', type=str)\n",
    "\n",
    "args = parser.parse_args() \n",
    "%tb"
   ]
  },
  {
   "cell_type": "code",
   "execution_count": 5,
   "metadata": {},
   "outputs": [
    {
     "name": "stdout",
     "output_type": "stream",
     "text": [
      "Number of data-points: 4000 - Number of events: 3109.0\n"
     ]
    }
   ],
   "source": [
    "sim = SimulationModel(survival_distribution='exponential', risk_type='Linear', censored_parameter=6,alpha=1,beta=5)\n",
    "train_samples = sim.generate_data(num_samples=4000, num_features=10,feature_weights=[1, 1, 0, 0, 0, 0, 0, 0, 0, 0])\n",
    "train_dataset = SurvivalDataset(train_samples, )\n"
   ]
  },
  {
   "cell_type": "code",
   "execution_count": null,
   "metadata": {},
   "outputs": [],
   "source": []
  }
 ],
 "metadata": {
  "kernelspec": {
   "display_name": "deepicc",
   "language": "python",
   "name": "deepicc"
  },
  "language_info": {
   "codemirror_mode": {
    "name": "ipython",
    "version": 3
   },
   "file_extension": ".py",
   "mimetype": "text/x-python",
   "name": "python",
   "nbconvert_exporter": "python",
   "pygments_lexer": "ipython3",
   "version": "3.8.5"
  }
 },
 "nbformat": 4,
 "nbformat_minor": 4
}
